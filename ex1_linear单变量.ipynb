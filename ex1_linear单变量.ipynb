{
 "cells": [
  {
   "cell_type": "code",
   "id": "initial_id",
   "metadata": {
    "collapsed": true,
    "ExecuteTime": {
     "end_time": "2024-09-25T07:43:37.096333Z",
     "start_time": "2024-09-25T07:43:37.093976Z"
    }
   },
   "source": [
    "import numpy as np\n",
    "import matplotlib.pyplot as plt\n",
    "import pandas as pd\n",
    "# from matplotlib.pyplot import xlabel\n",
    "# from scipy.special import label"
   ],
   "outputs": [],
   "execution_count": 23
  },
  {
   "metadata": {
    "ExecuteTime": {
     "end_time": "2024-09-25T07:43:37.144187Z",
     "start_time": "2024-09-25T07:43:37.134385Z"
    }
   },
   "cell_type": "code",
   "source": [
    "data = pd.read_csv(\"ex1data1.txt\", names=['population', 'profit'])\n",
    "data.head()  #查看前五个数据"
   ],
   "id": "f0d2744a2b5a904d",
   "outputs": [
    {
     "data": {
      "text/plain": [
       "   population   profit\n",
       "0      6.1101  17.5920\n",
       "1      5.5277   9.1302\n",
       "2      8.5186  13.6620\n",
       "3      7.0032  11.8540\n",
       "4      5.8598   6.8233"
      ],
      "text/html": [
       "<div>\n",
       "<style scoped>\n",
       "    .dataframe tbody tr th:only-of-type {\n",
       "        vertical-align: middle;\n",
       "    }\n",
       "\n",
       "    .dataframe tbody tr th {\n",
       "        vertical-align: top;\n",
       "    }\n",
       "\n",
       "    .dataframe thead th {\n",
       "        text-align: right;\n",
       "    }\n",
       "</style>\n",
       "<table border=\"1\" class=\"dataframe\">\n",
       "  <thead>\n",
       "    <tr style=\"text-align: right;\">\n",
       "      <th></th>\n",
       "      <th>population</th>\n",
       "      <th>profit</th>\n",
       "    </tr>\n",
       "  </thead>\n",
       "  <tbody>\n",
       "    <tr>\n",
       "      <th>0</th>\n",
       "      <td>6.1101</td>\n",
       "      <td>17.5920</td>\n",
       "    </tr>\n",
       "    <tr>\n",
       "      <th>1</th>\n",
       "      <td>5.5277</td>\n",
       "      <td>9.1302</td>\n",
       "    </tr>\n",
       "    <tr>\n",
       "      <th>2</th>\n",
       "      <td>8.5186</td>\n",
       "      <td>13.6620</td>\n",
       "    </tr>\n",
       "    <tr>\n",
       "      <th>3</th>\n",
       "      <td>7.0032</td>\n",
       "      <td>11.8540</td>\n",
       "    </tr>\n",
       "    <tr>\n",
       "      <th>4</th>\n",
       "      <td>5.8598</td>\n",
       "      <td>6.8233</td>\n",
       "    </tr>\n",
       "  </tbody>\n",
       "</table>\n",
       "</div>"
      ]
     },
     "execution_count": 24,
     "metadata": {},
     "output_type": "execute_result"
    }
   ],
   "execution_count": 24
  },
  {
   "metadata": {
    "ExecuteTime": {
     "end_time": "2024-09-25T07:43:37.189032Z",
     "start_time": "2024-09-25T07:43:37.182524Z"
    }
   },
   "cell_type": "code",
   "source": "data.tail()  #查看后五个数据",
   "id": "6caa983fae411302",
   "outputs": [
    {
     "data": {
      "text/plain": [
       "    population   profit\n",
       "92      5.8707  7.20290\n",
       "93      5.3054  1.98690\n",
       "94      8.2934  0.14454\n",
       "95     13.3940  9.05510\n",
       "96      5.4369  0.61705"
      ],
      "text/html": [
       "<div>\n",
       "<style scoped>\n",
       "    .dataframe tbody tr th:only-of-type {\n",
       "        vertical-align: middle;\n",
       "    }\n",
       "\n",
       "    .dataframe tbody tr th {\n",
       "        vertical-align: top;\n",
       "    }\n",
       "\n",
       "    .dataframe thead th {\n",
       "        text-align: right;\n",
       "    }\n",
       "</style>\n",
       "<table border=\"1\" class=\"dataframe\">\n",
       "  <thead>\n",
       "    <tr style=\"text-align: right;\">\n",
       "      <th></th>\n",
       "      <th>population</th>\n",
       "      <th>profit</th>\n",
       "    </tr>\n",
       "  </thead>\n",
       "  <tbody>\n",
       "    <tr>\n",
       "      <th>92</th>\n",
       "      <td>5.8707</td>\n",
       "      <td>7.20290</td>\n",
       "    </tr>\n",
       "    <tr>\n",
       "      <th>93</th>\n",
       "      <td>5.3054</td>\n",
       "      <td>1.98690</td>\n",
       "    </tr>\n",
       "    <tr>\n",
       "      <th>94</th>\n",
       "      <td>8.2934</td>\n",
       "      <td>0.14454</td>\n",
       "    </tr>\n",
       "    <tr>\n",
       "      <th>95</th>\n",
       "      <td>13.3940</td>\n",
       "      <td>9.05510</td>\n",
       "    </tr>\n",
       "    <tr>\n",
       "      <th>96</th>\n",
       "      <td>5.4369</td>\n",
       "      <td>0.61705</td>\n",
       "    </tr>\n",
       "  </tbody>\n",
       "</table>\n",
       "</div>"
      ]
     },
     "execution_count": 25,
     "metadata": {},
     "output_type": "execute_result"
    }
   ],
   "execution_count": 25
  },
  {
   "metadata": {
    "ExecuteTime": {
     "end_time": "2024-09-25T07:43:37.253315Z",
     "start_time": "2024-09-25T07:43:37.245737Z"
    }
   },
   "cell_type": "code",
   "source": "data.describe()  #数据的介绍",
   "id": "f6639e0ccdbf0058",
   "outputs": [
    {
     "data": {
      "text/plain": [
       "       population     profit\n",
       "count   97.000000  97.000000\n",
       "mean     8.159800   5.839135\n",
       "std      3.869884   5.510262\n",
       "min      5.026900  -2.680700\n",
       "25%      5.707700   1.986900\n",
       "50%      6.589400   4.562300\n",
       "75%      8.578100   7.046700\n",
       "max     22.203000  24.147000"
      ],
      "text/html": [
       "<div>\n",
       "<style scoped>\n",
       "    .dataframe tbody tr th:only-of-type {\n",
       "        vertical-align: middle;\n",
       "    }\n",
       "\n",
       "    .dataframe tbody tr th {\n",
       "        vertical-align: top;\n",
       "    }\n",
       "\n",
       "    .dataframe thead th {\n",
       "        text-align: right;\n",
       "    }\n",
       "</style>\n",
       "<table border=\"1\" class=\"dataframe\">\n",
       "  <thead>\n",
       "    <tr style=\"text-align: right;\">\n",
       "      <th></th>\n",
       "      <th>population</th>\n",
       "      <th>profit</th>\n",
       "    </tr>\n",
       "  </thead>\n",
       "  <tbody>\n",
       "    <tr>\n",
       "      <th>count</th>\n",
       "      <td>97.000000</td>\n",
       "      <td>97.000000</td>\n",
       "    </tr>\n",
       "    <tr>\n",
       "      <th>mean</th>\n",
       "      <td>8.159800</td>\n",
       "      <td>5.839135</td>\n",
       "    </tr>\n",
       "    <tr>\n",
       "      <th>std</th>\n",
       "      <td>3.869884</td>\n",
       "      <td>5.510262</td>\n",
       "    </tr>\n",
       "    <tr>\n",
       "      <th>min</th>\n",
       "      <td>5.026900</td>\n",
       "      <td>-2.680700</td>\n",
       "    </tr>\n",
       "    <tr>\n",
       "      <th>25%</th>\n",
       "      <td>5.707700</td>\n",
       "      <td>1.986900</td>\n",
       "    </tr>\n",
       "    <tr>\n",
       "      <th>50%</th>\n",
       "      <td>6.589400</td>\n",
       "      <td>4.562300</td>\n",
       "    </tr>\n",
       "    <tr>\n",
       "      <th>75%</th>\n",
       "      <td>8.578100</td>\n",
       "      <td>7.046700</td>\n",
       "    </tr>\n",
       "    <tr>\n",
       "      <th>max</th>\n",
       "      <td>22.203000</td>\n",
       "      <td>24.147000</td>\n",
       "    </tr>\n",
       "  </tbody>\n",
       "</table>\n",
       "</div>"
      ]
     },
     "execution_count": 26,
     "metadata": {},
     "output_type": "execute_result"
    }
   ],
   "execution_count": 26
  },
  {
   "metadata": {
    "ExecuteTime": {
     "end_time": "2024-09-25T07:43:37.396463Z",
     "start_time": "2024-09-25T07:43:37.390727Z"
    }
   },
   "cell_type": "code",
   "source": "data.info()  #查看信息",
   "id": "bf6164cff3ea72",
   "outputs": [
    {
     "name": "stdout",
     "output_type": "stream",
     "text": [
      "<class 'pandas.core.frame.DataFrame'>\n",
      "RangeIndex: 97 entries, 0 to 96\n",
      "Data columns (total 2 columns):\n",
      " #   Column      Non-Null Count  Dtype  \n",
      "---  ------      --------------  -----  \n",
      " 0   population  97 non-null     float64\n",
      " 1   profit      97 non-null     float64\n",
      "dtypes: float64(2)\n",
      "memory usage: 1.6 KB\n"
     ]
    }
   ],
   "execution_count": 27
  },
  {
   "metadata": {
    "ExecuteTime": {
     "end_time": "2024-09-25T07:43:37.632992Z",
     "start_time": "2024-09-25T07:43:37.547608Z"
    }
   },
   "cell_type": "code",
   "source": [
    "#数据可视化处理\n",
    "data.plot.scatter(x='population', y='profit', label='population')\n",
    "plt.show()"
   ],
   "id": "be76f01978ef13b5",
   "outputs": [
    {
     "data": {
      "text/plain": [
       "<Figure size 640x480 with 1 Axes>"
      ],
      "image/png": "[encoded data removed]"
     },
     "metadata": {},
     "output_type": "display_data"
    }
   ],
   "execution_count": 28
  },
  {
   "metadata": {
    "ExecuteTime": {
     "end_time": "2024-09-25T07:43:37.711444Z",
     "start_time": "2024-09-25T07:43:37.705442Z"
    }
   },
   "cell_type": "code",
   "source": [
    "data.insert(0, 'ones', 1)\n",
    "data.head()"
   ],
   "id": "f57c35c06b25a622",
   "outputs": [
    {
     "data": {
      "text/plain": [
       "   ones  population   profit\n",
       "0     1      6.1101  17.5920\n",
       "1     1      5.5277   9.1302\n",
       "2     1      8.5186  13.6620\n",
       "3     1      7.0032  11.8540\n",
       "4     1      5.8598   6.8233"
      ],
      "text/html": [
       "<div>\n",
       "<style scoped>\n",
       "    .dataframe tbody tr th:only-of-type {\n",
       "        vertical-align: middle;\n",
       "    }\n",
       "\n",
       "    .dataframe tbody tr th {\n",
       "        vertical-align: top;\n",
       "    }\n",
       "\n",
       "    .dataframe thead th {\n",
       "        text-align: right;\n",
       "    }\n",
       "</style>\n",
       "<table border=\"1\" class=\"dataframe\">\n",
       "  <thead>\n",
       "    <tr style=\"text-align: right;\">\n",
       "      <th></th>\n",
       "      <th>ones</th>\n",
       "      <th>population</th>\n",
       "      <th>profit</th>\n",
       "    </tr>\n",
       "  </thead>\n",
       "  <tbody>\n",
       "    <tr>\n",
       "      <th>0</th>\n",
       "      <td>1</td>\n",
       "      <td>6.1101</td>\n",
       "      <td>17.5920</td>\n",
       "    </tr>\n",
       "    <tr>\n",
       "      <th>1</th>\n",
       "      <td>1</td>\n",
       "      <td>5.5277</td>\n",
       "      <td>9.1302</td>\n",
       "    </tr>\n",
       "    <tr>\n",
       "      <th>2</th>\n",
       "      <td>1</td>\n",
       "      <td>8.5186</td>\n",
       "      <td>13.6620</td>\n",
       "    </tr>\n",
       "    <tr>\n",
       "      <th>3</th>\n",
       "      <td>1</td>\n",
       "      <td>7.0032</td>\n",
       "      <td>11.8540</td>\n",
       "    </tr>\n",
       "    <tr>\n",
       "      <th>4</th>\n",
       "      <td>1</td>\n",
       "      <td>5.8598</td>\n",
       "      <td>6.8233</td>\n",
       "    </tr>\n",
       "  </tbody>\n",
       "</table>\n",
       "</div>"
      ]
     },
     "execution_count": 29,
     "metadata": {},
     "output_type": "execute_result"
    }
   ],
   "execution_count": 29
  },
  {
   "metadata": {
    "ExecuteTime": {
     "end_time": "2024-09-25T07:43:37.759751Z",
     "start_time": "2024-09-25T07:43:37.753898Z"
    }
   },
   "cell_type": "code",
   "source": [
    "X = data.iloc[:, 0:-1]  #列数是ones和population\n",
    "X.head()"
   ],
   "id": "3d172d7477e41a2c",
   "outputs": [
    {
     "data": {
      "text/plain": [
       "   ones  population\n",
       "0     1      6.1101\n",
       "1     1      5.5277\n",
       "2     1      8.5186\n",
       "3     1      7.0032\n",
       "4     1      5.8598"
      ],
      "text/html": [
       "<div>\n",
       "<style scoped>\n",
       "    .dataframe tbody tr th:only-of-type {\n",
       "        vertical-align: middle;\n",
       "    }\n",
       "\n",
       "    .dataframe tbody tr th {\n",
       "        vertical-align: top;\n",
       "    }\n",
       "\n",
       "    .dataframe thead th {\n",
       "        text-align: right;\n",
       "    }\n",
       "</style>\n",
       "<table border=\"1\" class=\"dataframe\">\n",
       "  <thead>\n",
       "    <tr style=\"text-align: right;\">\n",
       "      <th></th>\n",
       "      <th>ones</th>\n",
       "      <th>population</th>\n",
       "    </tr>\n",
       "  </thead>\n",
       "  <tbody>\n",
       "    <tr>\n",
       "      <th>0</th>\n",
       "      <td>1</td>\n",
       "      <td>6.1101</td>\n",
       "    </tr>\n",
       "    <tr>\n",
       "      <th>1</th>\n",
       "      <td>1</td>\n",
       "      <td>5.5277</td>\n",
       "    </tr>\n",
       "    <tr>\n",
       "      <th>2</th>\n",
       "      <td>1</td>\n",
       "      <td>8.5186</td>\n",
       "    </tr>\n",
       "    <tr>\n",
       "      <th>3</th>\n",
       "      <td>1</td>\n",
       "      <td>7.0032</td>\n",
       "    </tr>\n",
       "    <tr>\n",
       "      <th>4</th>\n",
       "      <td>1</td>\n",
       "      <td>5.8598</td>\n",
       "    </tr>\n",
       "  </tbody>\n",
       "</table>\n",
       "</div>"
      ]
     },
     "execution_count": 30,
     "metadata": {},
     "output_type": "execute_result"
    }
   ],
   "execution_count": 30
  },
  {
   "metadata": {
    "ExecuteTime": {
     "end_time": "2024-09-25T07:43:37.832213Z",
     "start_time": "2024-09-25T07:43:37.825951Z"
    }
   },
   "cell_type": "code",
   "source": [
    "y = data.iloc[:, -1]\n",
    "y.head()"
   ],
   "id": "3b4ec96e82a15d3c",
   "outputs": [
    {
     "data": {
      "text/plain": [
       "0    17.5920\n",
       "1     9.1302\n",
       "2    13.6620\n",
       "3    11.8540\n",
       "4     6.8233\n",
       "Name: profit, dtype: float64"
      ]
     },
     "execution_count": 31,
     "metadata": {},
     "output_type": "execute_result"
    }
   ],
   "execution_count": 31
  },
  {
   "metadata": {
    "ExecuteTime": {
     "end_time": "2024-09-25T07:43:37.968939Z",
     "start_time": "2024-09-25T07:43:37.965431Z"
    }
   },
   "cell_type": "code",
   "source": "X = X.values  #转为数组",
   "id": "a49a296eb46e4851",
   "outputs": [],
   "execution_count": 32
  },
  {
   "metadata": {
    "ExecuteTime": {
     "end_time": "2024-09-25T07:43:38.064032Z",
     "start_time": "2024-09-25T07:43:38.058509Z"
    }
   },
   "cell_type": "code",
   "source": "X.shape",
   "id": "dfaae19690bdcb9c",
   "outputs": [
    {
     "data": {
      "text/plain": [
       "(97, 2)"
      ]
     },
     "execution_count": 33,
     "metadata": {},
     "output_type": "execute_result"
    }
   ],
   "execution_count": 33
  },
  {
   "metadata": {
    "ExecuteTime": {
     "end_time": "2024-09-25T07:43:38.171080Z",
     "start_time": "2024-09-25T07:43:38.168191Z"
    }
   },
   "cell_type": "code",
   "source": "y = y.values  #标签值",
   "id": "b4bbfd294d21ea21",
   "outputs": [],
   "execution_count": 34
  },
  {
   "metadata": {
    "ExecuteTime": {
     "end_time": "2024-09-25T07:43:38.191207Z",
     "start_time": "2024-09-25T07:43:38.187147Z"
    }
   },
   "cell_type": "code",
   "source": "y.shape",
   "id": "a150daddff5aeee8",
   "outputs": [
    {
     "data": {
      "text/plain": [
       "(97,)"
      ]
     },
     "execution_count": 35,
     "metadata": {},
     "output_type": "execute_result"
    }
   ],
   "execution_count": 35
  },
  {
   "metadata": {
    "ExecuteTime": {
     "end_time": "2024-09-25T07:43:38.248639Z",
     "start_time": "2024-09-25T07:43:38.244136Z"
    }
   },
   "cell_type": "code",
   "source": [
    "y = y.reshape(97, 1)\n",
    "y.shape"
   ],
   "id": "80d4cf50a53b6646",
   "outputs": [
    {
     "data": {
      "text/plain": [
       "(97, 1)"
      ]
     },
     "execution_count": 36,
     "metadata": {},
     "output_type": "execute_result"
    }
   ],
   "execution_count": 36
  },
  {
   "metadata": {
    "ExecuteTime": {
     "end_time": "2024-09-25T07:43:38.280314Z",
     "start_time": "2024-09-25T07:43:38.277050Z"
    }
   },
   "cell_type": "code",
   "source": [
    "#损失函数\n",
    "def costFunction(X, y, theta):  #X:特征值，y:标签\n",
    "    inner = np.power(X @ theta - y, 2)  #@: 矩阵乘法运算符，等同于 np.dot() 函数，用于计算两个数组的矩阵乘积。\n",
    "    return np.sum(inner) / (2 * len(X))"
   ],
   "id": "af75452746f6dcb1",
   "outputs": [],
   "execution_count": 37
  },
  {
   "metadata": {
    "ExecuteTime": {
     "end_time": "2024-09-25T07:43:38.298155Z",
     "start_time": "2024-09-25T07:43:38.294152Z"
    }
   },
   "cell_type": "code",
   "source": [
    "theta = np.zeros((2, 1))  #因为要变为y（97*1）所以X（97*2）要乘（2*1）才行\n",
    "theta.shape"
   ],
   "id": "6ac2878a0ed925a5",
   "outputs": [
    {
     "data": {
      "text/plain": [
       "(2, 1)"
      ]
     },
     "execution_count": 38,
     "metadata": {},
     "output_type": "execute_result"
    }
   ],
   "execution_count": 38
  },
  {
   "metadata": {
    "ExecuteTime": {
     "end_time": "2024-09-25T07:43:38.356393Z",
     "start_time": "2024-09-25T07:43:38.352576Z"
    }
   },
   "cell_type": "code",
   "source": [
    "cost_init = costFunction(X, y, theta)\n",
    "print(cost_init)"
   ],
   "id": "1562b327da0a7ce",
   "outputs": [
    {
     "name": "stdout",
     "output_type": "stream",
     "text": [
      "32.072733877455676\n"
     ]
    }
   ],
   "execution_count": 39
  },
  {
   "metadata": {
    "ExecuteTime": {
     "end_time": "2024-09-25T07:43:38.387191Z",
     "start_time": "2024-09-25T07:43:38.383109Z"
    }
   },
   "cell_type": "code",
   "source": [
    "#梯度下降函数\n",
    "# 梯度下降是一种优化算法，它通过迭代过程来更新参数θ，目的是最小化代价函数（cost function）\n",
    "def gradientDescent(X, y, theta, alpha, iters):\n",
    "    costs = []  #存储每一个时刻的损失函数的值\n",
    "    for i in range(iters):\n",
    "        theta = theta - (X.T @ (X @ theta - y)) * alpha / (len(X))  #更新theta\n",
    "        cost = costFunction(X, y, theta)\n",
    "        costs.append(cost)\n",
    "        if i % 100 == 0:\n",
    "            print(f\"cost = {cost}\")  #100整数倍打印\n",
    "    return theta, costs\n"
   ],
   "id": "87fd1eb7ddbdfda4",
   "outputs": [],
   "execution_count": 40
  },
  {
   "metadata": {
    "ExecuteTime": {
     "end_time": "2024-09-25T07:43:38.420630Z",
     "start_time": "2024-09-25T07:43:38.399712Z"
    }
   },
   "cell_type": "code",
   "source": [
    "alpha = 0.01\n",
    "iters = 1500\n",
    "theta, costs = gradientDescent(X, y, theta, alpha, iters)\n",
    "#由观察结果可得，损失函数的值不断下降"
   ],
   "id": "363e00341eafcdab",
   "outputs": [
    {
     "name": "stdout",
     "output_type": "stream",
     "text": [
      "cost = 6.737190464870009\n",
      "cost = 5.476362817272741\n",
      "cost = 5.173634551165023\n",
      "cost = 4.962606493117519\n",
      "cost = 4.8155014941166865\n",
      "cost = 4.712956453749759\n",
      "cost = 4.6414735988143185\n",
      "cost = 4.591643801766726\n",
      "cost = 4.556908078409751\n",
      "cost = 4.532694243543436\n",
      "cost = 4.515815084502823\n",
      "cost = 4.50404883551784\n",
      "cost = 4.495846731678219\n",
      "cost = 4.490129148489064\n",
      "cost = 4.4861434933249615\n"
     ]
    }
   ],
   "execution_count": 41
  },
  {
   "metadata": {
    "ExecuteTime": {
     "end_time": "2024-09-25T07:43:38.544689Z",
     "start_time": "2024-09-25T07:43:38.461353Z"
    }
   },
   "cell_type": "code",
   "source": [
    "fig, ax = plt.subplots()  #fig就是绘图的图像#ax就是轴（绘图的实列）\n",
    "ax.plot(np.arange(iters), costs)\n",
    "ax.set(xlabel='iters', ylabel='cost', title='cost vs iters')\n",
    "plt.show()"
   ],
   "id": "8d60359766d319b8",
   "outputs": [
    {
     "data": {
      "text/plain": [
       "<Figure size 640x480 with 1 Axes>"
      ],
      "image/png": "[encoded data removed]"
     },
     "metadata": {},
     "output_type": "display_data"
    }
   ],
   "execution_count": 42
  },
  {
   "metadata": {
    "ExecuteTime": {
     "end_time": "2024-09-25T07:43:38.642285Z",
     "start_time": "2024-09-25T07:43:38.554291Z"
    }
   },
   "cell_type": "code",
   "source": [
    "x = np.linspace(y.min(), y.max(), 100)\n",
    "#这行代码创建了一个包含100个元素的数组 x，这些元素从 y 的最小值线性地增加到 y 的最大值。这个数组用于生成预测的 x 值。\n",
    "y_ = theta[0, 0] + theta[1, 0] * x  #拟合的直线  \n",
    "#这里，theta 是通过训练得到的线性回归模型参数，theta[0, 0] 是截距项，theta[1, 0] 是斜率。y_ 计算了给定 x 值的预测结果。这个预测结果是基于模型的线性假设，即 y = theta[0] + theta[1]*x。\n",
    "fig, ax = plt.subplots()\n",
    "ax.scatter(X[:, 1], y, label='traning data')  #散点图\n",
    "\n",
    "ax.plot(x, y_, color='red', label='predict')\n",
    "ax.legend()\n",
    "ax.set(xlabel='population', ylabel='profit', title='predict')\n",
    "plt.show()"
   ],
   "id": "799b19f422cece59",
   "outputs": [
    {
     "data": {
      "text/plain": [
       "<Figure size 640x480 with 1 Axes>"
      ],
      "image/png": "[encoded data removed]"
     },
     "metadata": {},
     "output_type": "display_data"
    }
   ],
   "execution_count": 43
  },
  {
   "metadata": {
    "ExecuteTime": {
     "end_time": "2024-09-25T07:43:38.673032Z",
     "start_time": "2024-09-25T07:43:38.665815Z"
    }
   },
   "cell_type": "code",
   "source": "theta",
   "id": "cafc73ee1739ae5e",
   "outputs": [
    {
     "data": {
      "text/plain": [
       "array([[-3.63029144],\n",
       "       [ 1.16636235]])"
      ]
     },
     "execution_count": 44,
     "metadata": {},
     "output_type": "execute_result"
    }
   ],
   "execution_count": 44
  }
 ],
 "metadata": {
  "kernelspec": {
   "display_name": "Python 3",
   "language": "python",
   "name": "python3"
  },
  "language_info": {
   "codemirror_mode": {
    "name": "ipython",
    "version": 2
   },
   "file_extension": ".py",
   "mimetype": "text/x-python",
   "name": "python",
   "nbconvert_exporter": "python",
   "pygments_lexer": "ipython2",
   "version": "2.7.6"
  }
 },
 "nbformat": 4,
 "nbformat_minor": 5
}
