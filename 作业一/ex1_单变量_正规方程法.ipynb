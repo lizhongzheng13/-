{
 "cells": [
  {
   "cell_type": "code",
   "id": "initial_id",
   "metadata": {
    "ExecuteTime": {
     "end_time": "2024-09-25T07:42:04.724090Z",
     "start_time": "2024-09-25T07:42:04.721315Z"
    }
   },
   "source": [
    "import numpy as np\n",
    "import matplotlib.pyplot as plt\n",
    "import pandas as pd"
   ],
   "outputs": [],
   "execution_count": 80
  },
  {
   "cell_type": "code",
   "id": "6c4bd23286bf7e87",
   "metadata": {
    "ExecuteTime": {
     "end_time": "2024-09-25T07:42:04.756794Z",
     "start_time": "2024-09-25T07:42:04.752097Z"
    }
   },
   "source": "data = pd.read_csv('ex1data1.txt', names=['population', 'profit'])",
   "outputs": [],
   "execution_count": 81
  },
  {
   "metadata": {
    "ExecuteTime": {
     "end_time": "2024-09-25T07:42:04.786833Z",
     "start_time": "2024-09-25T07:42:04.780589Z"
    }
   },
   "cell_type": "code",
   "source": "data.head()",
   "id": "5b0357d9470bff80",
   "outputs": [
    {
     "data": {
      "text/plain": [
       "   population   profit\n",
       "0      6.1101  17.5920\n",
       "1      5.5277   9.1302\n",
       "2      8.5186  13.6620\n",
       "3      7.0032  11.8540\n",
       "4      5.8598   6.8233"
      ],
      "text/html": [
       "<div>\n",
       "<style scoped>\n",
       "    .dataframe tbody tr th:only-of-type {\n",
       "        vertical-align: middle;\n",
       "    }\n",
       "\n",
       "    .dataframe tbody tr th {\n",
       "        vertical-align: top;\n",
       "    }\n",
       "\n",
       "    .dataframe thead th {\n",
       "        text-align: right;\n",
       "    }\n",
       "</style>\n",
       "<table border=\"1\" class=\"dataframe\">\n",
       "  <thead>\n",
       "    <tr style=\"text-align: right;\">\n",
       "      <th></th>\n",
       "      <th>population</th>\n",
       "      <th>profit</th>\n",
       "    </tr>\n",
       "  </thead>\n",
       "  <tbody>\n",
       "    <tr>\n",
       "      <th>0</th>\n",
       "      <td>6.1101</td>\n",
       "      <td>17.5920</td>\n",
       "    </tr>\n",
       "    <tr>\n",
       "      <th>1</th>\n",
       "      <td>5.5277</td>\n",
       "      <td>9.1302</td>\n",
       "    </tr>\n",
       "    <tr>\n",
       "      <th>2</th>\n",
       "      <td>8.5186</td>\n",
       "      <td>13.6620</td>\n",
       "    </tr>\n",
       "    <tr>\n",
       "      <th>3</th>\n",
       "      <td>7.0032</td>\n",
       "      <td>11.8540</td>\n",
       "    </tr>\n",
       "    <tr>\n",
       "      <th>4</th>\n",
       "      <td>5.8598</td>\n",
       "      <td>6.8233</td>\n",
       "    </tr>\n",
       "  </tbody>\n",
       "</table>\n",
       "</div>"
      ]
     },
     "execution_count": 82,
     "metadata": {},
     "output_type": "execute_result"
    }
   ],
   "execution_count": 82
  },
  {
   "cell_type": "code",
   "id": "7dec571c733f126a",
   "metadata": {
    "ExecuteTime": {
     "end_time": "2024-09-25T07:42:04.831572Z",
     "start_time": "2024-09-25T07:42:04.828339Z"
    }
   },
   "source": "data.insert(0, 'ones', 1)",
   "outputs": [],
   "execution_count": 83
  },
  {
   "cell_type": "code",
   "id": "460ad09e-deae-49b1-9c0d-bb93b8478060",
   "metadata": {
    "ExecuteTime": {
     "end_time": "2024-09-25T07:42:04.884705Z",
     "start_time": "2024-09-25T07:42:04.879361Z"
    }
   },
   "source": [
    "X = data.iloc[:,0:-1]\n",
    "y = data.iloc[:, -1]"
   ],
   "outputs": [],
   "execution_count": 84
  },
  {
   "metadata": {
    "ExecuteTime": {
     "end_time": "2024-09-25T07:42:04.951478Z",
     "start_time": "2024-09-25T07:42:04.945296Z"
    }
   },
   "cell_type": "code",
   "source": "X.head()",
   "id": "2c975ef47a1b0d0e",
   "outputs": [
    {
     "data": {
      "text/plain": [
       "   ones  population\n",
       "0     1      6.1101\n",
       "1     1      5.5277\n",
       "2     1      8.5186\n",
       "3     1      7.0032\n",
       "4     1      5.8598"
      ],
      "text/html": [
       "<div>\n",
       "<style scoped>\n",
       "    .dataframe tbody tr th:only-of-type {\n",
       "        vertical-align: middle;\n",
       "    }\n",
       "\n",
       "    .dataframe tbody tr th {\n",
       "        vertical-align: top;\n",
       "    }\n",
       "\n",
       "    .dataframe thead th {\n",
       "        text-align: right;\n",
       "    }\n",
       "</style>\n",
       "<table border=\"1\" class=\"dataframe\">\n",
       "  <thead>\n",
       "    <tr style=\"text-align: right;\">\n",
       "      <th></th>\n",
       "      <th>ones</th>\n",
       "      <th>population</th>\n",
       "    </tr>\n",
       "  </thead>\n",
       "  <tbody>\n",
       "    <tr>\n",
       "      <th>0</th>\n",
       "      <td>1</td>\n",
       "      <td>6.1101</td>\n",
       "    </tr>\n",
       "    <tr>\n",
       "      <th>1</th>\n",
       "      <td>1</td>\n",
       "      <td>5.5277</td>\n",
       "    </tr>\n",
       "    <tr>\n",
       "      <th>2</th>\n",
       "      <td>1</td>\n",
       "      <td>8.5186</td>\n",
       "    </tr>\n",
       "    <tr>\n",
       "      <th>3</th>\n",
       "      <td>1</td>\n",
       "      <td>7.0032</td>\n",
       "    </tr>\n",
       "    <tr>\n",
       "      <th>4</th>\n",
       "      <td>1</td>\n",
       "      <td>5.8598</td>\n",
       "    </tr>\n",
       "  </tbody>\n",
       "</table>\n",
       "</div>"
      ]
     },
     "execution_count": 85,
     "metadata": {},
     "output_type": "execute_result"
    }
   ],
   "execution_count": 85
  },
  {
   "metadata": {
    "ExecuteTime": {
     "end_time": "2024-09-25T07:42:05.009078Z",
     "start_time": "2024-09-25T07:42:05.004004Z"
    }
   },
   "cell_type": "code",
   "source": "y.head()",
   "id": "da1b5a1baae91e4b",
   "outputs": [
    {
     "data": {
      "text/plain": [
       "0    17.5920\n",
       "1     9.1302\n",
       "2    13.6620\n",
       "3    11.8540\n",
       "4     6.8233\n",
       "Name: profit, dtype: float64"
      ]
     },
     "execution_count": 86,
     "metadata": {},
     "output_type": "execute_result"
    }
   ],
   "execution_count": 86
  },
  {
   "cell_type": "code",
   "id": "6ef73d18-b824-4b54-9e47-c2f0af2233e4",
   "metadata": {
    "ExecuteTime": {
     "end_time": "2024-09-25T07:42:05.087848Z",
     "start_time": "2024-09-25T07:42:05.083281Z"
    }
   },
   "source": "X = X.values",
   "outputs": [],
   "execution_count": 87
  },
  {
   "cell_type": "code",
   "id": "6134efe9-13c8-49fe-9226-7337c2715f2d",
   "metadata": {
    "ExecuteTime": {
     "end_time": "2024-09-25T07:42:05.158270Z",
     "start_time": "2024-09-25T07:42:05.154863Z"
    }
   },
   "source": "y = y.values",
   "outputs": [],
   "execution_count": 88
  },
  {
   "cell_type": "code",
   "id": "6a96b35c-d470-4922-8f6d-7a4961cc22e0",
   "metadata": {
    "ExecuteTime": {
     "end_time": "2024-09-25T07:42:05.213675Z",
     "start_time": "2024-09-25T07:42:05.210654Z"
    }
   },
   "source": "y = y.reshape(97, 1)",
   "outputs": [],
   "execution_count": 89
  },
  {
   "metadata": {
    "ExecuteTime": {
     "end_time": "2024-09-25T07:42:05.232546Z",
     "start_time": "2024-09-25T07:42:05.229203Z"
    }
   },
   "cell_type": "code",
   "source": "X.shape",
   "id": "b544c8add6451e08",
   "outputs": [
    {
     "data": {
      "text/plain": [
       "(97, 2)"
      ]
     },
     "execution_count": 90,
     "metadata": {},
     "output_type": "execute_result"
    }
   ],
   "execution_count": 90
  },
  {
   "metadata": {
    "ExecuteTime": {
     "end_time": "2024-09-25T07:42:05.297436Z",
     "start_time": "2024-09-25T07:42:05.293670Z"
    }
   },
   "cell_type": "code",
   "source": "y.shape",
   "id": "63dcef4602bf57ac",
   "outputs": [
    {
     "data": {
      "text/plain": [
       "(97, 1)"
      ]
     },
     "execution_count": 91,
     "metadata": {},
     "output_type": "execute_result"
    }
   ],
   "execution_count": 91
  },
  {
   "metadata": {
    "ExecuteTime": {
     "end_time": "2024-09-25T07:42:05.327734Z",
     "start_time": "2024-09-25T07:42:05.324468Z"
    }
   },
   "cell_type": "code",
   "source": [
    "def normalEquation(X, y):\n",
    "    theta = np.linalg.inv(X.T @ X) @ X.T @ y\n",
    "    return theta"
   ],
   "id": "c28f8888b4e57cb7",
   "outputs": [],
   "execution_count": 92
  },
  {
   "metadata": {},
   "cell_type": "markdown",
   "source": [
    "这段代码是使用Python的NumPy库进行线性代数运算的表达式，它代表了线性回归模型的参数估计。下面是代码的详细解释：\n",
    "\n",
    "1. `X` 是一个设计矩阵，其中包含了你的数据特征。\n",
    "2. `X.T` 是 `X` 的转置矩阵。\n",
    "3. `X.T @ X` 是 `X` 的转置矩阵与 `X` 本身的矩阵乘法，得到一个方阵。\n",
    "4. `np.linalg.inv(X.T @ X)` 是计算上述方阵的逆矩阵。\n",
    "5. `X.T` 是 `X` 的转置。\n",
    "6. `np.linalg.inv(X.T @ X) @ X.T @ y` 表示先计算 `(X.T @ X)` 的逆矩阵，然后与 `X` 的转置矩阵相乘，最后再与目标变量向量 `y` 相乘。\n",
    "这个表达式实际上是在计算线性回归的参数（系数），使用的是普通最小二乘法（Ordinary Least Squares, OLS）。在OLS中，我们通常寻找参数向量 `theta`，使得 `X * theta` 与 `y` 之间的误差平方和最小。数学上，这可以通过下面的公式来求解：\n",
    "\\[\n",
    "\\theta = (X^T X)^{-1} X^T y\n",
    "\\]\n",
    "\n",
    "其中：\n",
    "- \\( X \\) 是设计矩阵。\n",
    "- \\( X^T \\) 是 \\( X \\) 的转置。\n",
    "- \\( (X^T X)^{-1} \\) 是 \\( X^T X \\) 的逆矩阵。\n",
    "- \\( y \\) 是目标变量向量。\n",
    "\n",
    "求解这个方程可以得到线性模型的参数 \\( \\theta \\)。\n"
   ],
   "id": "86220a48746aebb"
  },
  {
   "metadata": {
    "ExecuteTime": {
     "end_time": "2024-09-25T07:42:05.358124Z",
     "start_time": "2024-09-25T07:42:05.354496Z"
    }
   },
   "cell_type": "code",
   "source": "theta = normalEquation(X, y)",
   "id": "393241823081e334",
   "outputs": [],
   "execution_count": 93
  },
  {
   "metadata": {
    "ExecuteTime": {
     "end_time": "2024-09-25T07:42:05.395213Z",
     "start_time": "2024-09-25T07:42:05.391143Z"
    }
   },
   "cell_type": "code",
   "source": "print(theta)",
   "id": "c5db512591c0927b",
   "outputs": [
    {
     "name": "stdout",
     "output_type": "stream",
     "text": [
      "[[-3.89578088]\n",
      " [ 1.19303364]]\n"
     ]
    }
   ],
   "execution_count": 94
  },
  {
   "metadata": {
    "ExecuteTime": {
     "end_time": "2024-09-25T07:42:05.436607Z",
     "start_time": "2024-09-25T07:42:05.433675Z"
    }
   },
   "cell_type": "code",
   "source": "",
   "id": "14ea03da7c88594f",
   "outputs": [],
   "execution_count": null
  }
 ],
 "metadata": {
  "kernelspec": {
   "display_name": "Python 3 (ipykernel)",
   "language": "python",
   "name": "python3"
  },
  "language_info": {
   "codemirror_mode": {
    "name": "ipython",
    "version": 3
   },
   "file_extension": ".py",
   "mimetype": "text/x-python",
   "name": "python",
   "nbconvert_exporter": "python",
   "pygments_lexer": "ipython3",
   "version": "3.11.4"
  }
 },
 "nbformat": 4,
 "nbformat_minor": 5
}
