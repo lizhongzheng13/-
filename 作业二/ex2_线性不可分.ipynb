{
 "cells": [
  {
   "cell_type": "code",
   "id": "initial_id",
   "metadata": {
    "collapsed": true,
    "ExecuteTime": {
     "end_time": "2024-10-06T13:27:46.642609Z",
     "start_time": "2024-10-06T13:27:46.628583Z"
    }
   },
   "source": [
    "#工厂的生产主管，决定芯片是否要被接收或抛弃\n",
    "import numpy as np\n",
    "import matplotlib.pyplot as plt\n",
    "import pandas as pd"
   ],
   "outputs": [],
   "execution_count": 197
  },
  {
   "metadata": {
    "ExecuteTime": {
     "end_time": "2024-10-06T13:27:46.671649Z",
     "start_time": "2024-10-06T13:27:46.660796Z"
    }
   },
   "cell_type": "code",
   "source": [
    "data = pd.read_csv('ex2data2.txt', names=['Test 1', 'Test 2', 'Accepted'])\n",
    "data.head()"
   ],
   "id": "fedfc5cb9d447f3e",
   "outputs": [
    {
     "data": {
      "text/plain": [
       "     Test 1   Test 2  Accepted\n",
       "0  0.051267  0.69956         1\n",
       "1 -0.092742  0.68494         1\n",
       "2 -0.213710  0.69225         1\n",
       "3 -0.375000  0.50219         1\n",
       "4 -0.513250  0.46564         1"
      ],
      "text/html": [
       "<div>\n",
       "<style scoped>\n",
       "    .dataframe tbody tr th:only-of-type {\n",
       "        vertical-align: middle;\n",
       "    }\n",
       "\n",
       "    .dataframe tbody tr th {\n",
       "        vertical-align: top;\n",
       "    }\n",
       "\n",
       "    .dataframe thead th {\n",
       "        text-align: right;\n",
       "    }\n",
       "</style>\n",
       "<table border=\"1\" class=\"dataframe\">\n",
       "  <thead>\n",
       "    <tr style=\"text-align: right;\">\n",
       "      <th></th>\n",
       "      <th>Test 1</th>\n",
       "      <th>Test 2</th>\n",
       "      <th>Accepted</th>\n",
       "    </tr>\n",
       "  </thead>\n",
       "  <tbody>\n",
       "    <tr>\n",
       "      <th>0</th>\n",
       "      <td>0.051267</td>\n",
       "      <td>0.69956</td>\n",
       "      <td>1</td>\n",
       "    </tr>\n",
       "    <tr>\n",
       "      <th>1</th>\n",
       "      <td>-0.092742</td>\n",
       "      <td>0.68494</td>\n",
       "      <td>1</td>\n",
       "    </tr>\n",
       "    <tr>\n",
       "      <th>2</th>\n",
       "      <td>-0.213710</td>\n",
       "      <td>0.69225</td>\n",
       "      <td>1</td>\n",
       "    </tr>\n",
       "    <tr>\n",
       "      <th>3</th>\n",
       "      <td>-0.375000</td>\n",
       "      <td>0.50219</td>\n",
       "      <td>1</td>\n",
       "    </tr>\n",
       "    <tr>\n",
       "      <th>4</th>\n",
       "      <td>-0.513250</td>\n",
       "      <td>0.46564</td>\n",
       "      <td>1</td>\n",
       "    </tr>\n",
       "  </tbody>\n",
       "</table>\n",
       "</div>"
      ]
     },
     "execution_count": 198,
     "metadata": {},
     "output_type": "execute_result"
    }
   ],
   "execution_count": 198
  },
  {
   "metadata": {
    "ExecuteTime": {
     "end_time": "2024-10-06T13:27:46.814312Z",
     "start_time": "2024-10-06T13:27:46.717271Z"
    }
   },
   "cell_type": "code",
   "source": [
    "fig, ax = plt.subplots()\n",
    "ax.scatter(data[data['Accepted'] == 0]['Test 1'], data[data['Accepted'] == 0]['Test 2'], c='r', marker='x',\n",
    "           label='y=0')  #未被接收\n",
    "ax.scatter(data[data['Accepted'] == 1]['Test 1'], data[data['Accepted'] == 1]['Test 2'], c='b', marker='o',\n",
    "           label='y=1')  #接收\n",
    "ax.legend()\n",
    "ax.set(xlabel='Test1', ylabel='Test2')\n",
    "plt.show()"
   ],
   "id": "9841a137f2abc8b9",
   "outputs": [
    {
     "data": {
      "text/plain": [
       "<Figure size 640x480 with 1 Axes>"
      ],
      "image/png": "[encoded data removed]"
     },
     "metadata": {},
     "output_type": "display_data"
    }
   ],
   "execution_count": 199
  },
  {
   "metadata": {
    "ExecuteTime": {
     "end_time": "2024-10-06T13:27:46.927160Z",
     "start_time": "2024-10-06T13:27:46.922875Z"
    }
   },
   "cell_type": "code",
   "source": [
    "#特征映射\n",
    "def feature_mapping(x1, x2, power):\n",
    "    data = {}  #字典\n",
    "    #注意这个的内外双层循环可以自己带值试一试，作用是列举出所有的特征\n",
    "    for i in range(power + 1):\n",
    "        for j in range(i + 1):\n",
    "            data['F{}{}'.format(i - j, j)] = np.power(x1, i - j) * np.power(x2, j)\n",
    "    return pd.DataFrame(data)"
   ],
   "id": "b4efa2cea13a419a",
   "outputs": [],
   "execution_count": 200
  },
  {
   "metadata": {
    "ExecuteTime": {
     "end_time": "2024-10-06T13:27:46.987700Z",
     "start_time": "2024-10-06T13:27:46.984227Z"
    }
   },
   "cell_type": "code",
   "source": [
    "x1 = data['Test 1']\n",
    "x2 = data['Test 2']"
   ],
   "id": "6e1c90cdc88a003",
   "outputs": [],
   "execution_count": 201
  },
  {
   "metadata": {
    "ExecuteTime": {
     "end_time": "2024-10-06T13:27:47.013108Z",
     "start_time": "2024-10-06T13:27:47.005611Z"
    }
   },
   "cell_type": "code",
   "source": "data2 = feature_mapping(x1, x2, 6)",
   "id": "10d88c19c89af797",
   "outputs": [],
   "execution_count": 202
  },
  {
   "metadata": {
    "ExecuteTime": {
     "end_time": "2024-10-06T13:27:47.052368Z",
     "start_time": "2024-10-06T13:27:47.039820Z"
    }
   },
   "cell_type": "code",
   "source": "data2.head()",
   "id": "793535fde20f1603",
   "outputs": [
    {
     "data": {
      "text/plain": [
       "   F00       F10      F01       F20       F11       F02       F30       F21  \\\n",
       "0  1.0  0.051267  0.69956  0.002628  0.035864  0.489384  0.000135  0.001839   \n",
       "1  1.0 -0.092742  0.68494  0.008601 -0.063523  0.469143 -0.000798  0.005891   \n",
       "2  1.0 -0.213710  0.69225  0.045672 -0.147941  0.479210 -0.009761  0.031616   \n",
       "3  1.0 -0.375000  0.50219  0.140625 -0.188321  0.252195 -0.052734  0.070620   \n",
       "4  1.0 -0.513250  0.46564  0.263426 -0.238990  0.216821 -0.135203  0.122661   \n",
       "\n",
       "        F12       F03  ...       F23       F14       F05           F60  \\\n",
       "0  0.025089  0.342354  ...  0.000900  0.012278  0.167542  1.815630e-08   \n",
       "1 -0.043509  0.321335  ...  0.002764 -0.020412  0.150752  6.362953e-07   \n",
       "2 -0.102412  0.331733  ...  0.015151 -0.049077  0.158970  9.526844e-05   \n",
       "3 -0.094573  0.126650  ...  0.017810 -0.023851  0.031940  2.780914e-03   \n",
       "4 -0.111283  0.100960  ...  0.026596 -0.024128  0.021890  1.827990e-02   \n",
       "\n",
       "            F51       F42       F33       F24       F15       F06  \n",
       "0  2.477505e-07  0.000003  0.000046  0.000629  0.008589  0.117206  \n",
       "1 -4.699318e-06  0.000035 -0.000256  0.001893 -0.013981  0.103256  \n",
       "2 -3.085938e-04  0.001000 -0.003238  0.010488 -0.033973  0.110047  \n",
       "3 -3.724126e-03  0.004987 -0.006679  0.008944 -0.011978  0.016040  \n",
       "4 -1.658422e-02  0.015046 -0.013650  0.012384 -0.011235  0.010193  \n",
       "\n",
       "[5 rows x 28 columns]"
      ],
      "text/html": [
       "<div>\n",
       "<style scoped>\n",
       "    .dataframe tbody tr th:only-of-type {\n",
       "        vertical-align: middle;\n",
       "    }\n",
       "\n",
       "    .dataframe tbody tr th {\n",
       "        vertical-align: top;\n",
       "    }\n",
       "\n",
       "    .dataframe thead th {\n",
       "        text-align: right;\n",
       "    }\n",
       "</style>\n",
       "<table border=\"1\" class=\"dataframe\">\n",
       "  <thead>\n",
       "    <tr style=\"text-align: right;\">\n",
       "      <th></th>\n",
       "      <th>F00</th>\n",
       "      <th>F10</th>\n",
       "      <th>F01</th>\n",
       "      <th>F20</th>\n",
       "      <th>F11</th>\n",
       "      <th>F02</th>\n",
       "      <th>F30</th>\n",
       "      <th>F21</th>\n",
       "      <th>F12</th>\n",
       "      <th>F03</th>\n",
       "      <th>...</th>\n",
       "      <th>F23</th>\n",
       "      <th>F14</th>\n",
       "      <th>F05</th>\n",
       "      <th>F60</th>\n",
       "      <th>F51</th>\n",
       "      <th>F42</th>\n",
       "      <th>F33</th>\n",
       "      <th>F24</th>\n",
       "      <th>F15</th>\n",
       "      <th>F06</th>\n",
       "    </tr>\n",
       "  </thead>\n",
       "  <tbody>\n",
       "    <tr>\n",
       "      <th>0</th>\n",
       "      <td>1.0</td>\n",
       "      <td>0.051267</td>\n",
       "      <td>0.69956</td>\n",
       "      <td>0.002628</td>\n",
       "      <td>0.035864</td>\n",
       "      <td>0.489384</td>\n",
       "      <td>0.000135</td>\n",
       "      <td>0.001839</td>\n",
       "      <td>0.025089</td>\n",
       "      <td>0.342354</td>\n",
       "      <td>...</td>\n",
       "      <td>0.000900</td>\n",
       "      <td>0.012278</td>\n",
       "      <td>0.167542</td>\n",
       "      <td>1.815630e-08</td>\n",
       "      <td>2.477505e-07</td>\n",
       "      <td>0.000003</td>\n",
       "      <td>0.000046</td>\n",
       "      <td>0.000629</td>\n",
       "      <td>0.008589</td>\n",
       "      <td>0.117206</td>\n",
       "    </tr>\n",
       "    <tr>\n",
       "      <th>1</th>\n",
       "      <td>1.0</td>\n",
       "      <td>-0.092742</td>\n",
       "      <td>0.68494</td>\n",
       "      <td>0.008601</td>\n",
       "      <td>-0.063523</td>\n",
       "      <td>0.469143</td>\n",
       "      <td>-0.000798</td>\n",
       "      <td>0.005891</td>\n",
       "      <td>-0.043509</td>\n",
       "      <td>0.321335</td>\n",
       "      <td>...</td>\n",
       "      <td>0.002764</td>\n",
       "      <td>-0.020412</td>\n",
       "      <td>0.150752</td>\n",
       "      <td>6.362953e-07</td>\n",
       "      <td>-4.699318e-06</td>\n",
       "      <td>0.000035</td>\n",
       "      <td>-0.000256</td>\n",
       "      <td>0.001893</td>\n",
       "      <td>-0.013981</td>\n",
       "      <td>0.103256</td>\n",
       "    </tr>\n",
       "    <tr>\n",
       "      <th>2</th>\n",
       "      <td>1.0</td>\n",
       "      <td>-0.213710</td>\n",
       "      <td>0.69225</td>\n",
       "      <td>0.045672</td>\n",
       "      <td>-0.147941</td>\n",
       "      <td>0.479210</td>\n",
       "      <td>-0.009761</td>\n",
       "      <td>0.031616</td>\n",
       "      <td>-0.102412</td>\n",
       "      <td>0.331733</td>\n",
       "      <td>...</td>\n",
       "      <td>0.015151</td>\n",
       "      <td>-0.049077</td>\n",
       "      <td>0.158970</td>\n",
       "      <td>9.526844e-05</td>\n",
       "      <td>-3.085938e-04</td>\n",
       "      <td>0.001000</td>\n",
       "      <td>-0.003238</td>\n",
       "      <td>0.010488</td>\n",
       "      <td>-0.033973</td>\n",
       "      <td>0.110047</td>\n",
       "    </tr>\n",
       "    <tr>\n",
       "      <th>3</th>\n",
       "      <td>1.0</td>\n",
       "      <td>-0.375000</td>\n",
       "      <td>0.50219</td>\n",
       "      <td>0.140625</td>\n",
       "      <td>-0.188321</td>\n",
       "      <td>0.252195</td>\n",
       "      <td>-0.052734</td>\n",
       "      <td>0.070620</td>\n",
       "      <td>-0.094573</td>\n",
       "      <td>0.126650</td>\n",
       "      <td>...</td>\n",
       "      <td>0.017810</td>\n",
       "      <td>-0.023851</td>\n",
       "      <td>0.031940</td>\n",
       "      <td>2.780914e-03</td>\n",
       "      <td>-3.724126e-03</td>\n",
       "      <td>0.004987</td>\n",
       "      <td>-0.006679</td>\n",
       "      <td>0.008944</td>\n",
       "      <td>-0.011978</td>\n",
       "      <td>0.016040</td>\n",
       "    </tr>\n",
       "    <tr>\n",
       "      <th>4</th>\n",
       "      <td>1.0</td>\n",
       "      <td>-0.513250</td>\n",
       "      <td>0.46564</td>\n",
       "      <td>0.263426</td>\n",
       "      <td>-0.238990</td>\n",
       "      <td>0.216821</td>\n",
       "      <td>-0.135203</td>\n",
       "      <td>0.122661</td>\n",
       "      <td>-0.111283</td>\n",
       "      <td>0.100960</td>\n",
       "      <td>...</td>\n",
       "      <td>0.026596</td>\n",
       "      <td>-0.024128</td>\n",
       "      <td>0.021890</td>\n",
       "      <td>1.827990e-02</td>\n",
       "      <td>-1.658422e-02</td>\n",
       "      <td>0.015046</td>\n",
       "      <td>-0.013650</td>\n",
       "      <td>0.012384</td>\n",
       "      <td>-0.011235</td>\n",
       "      <td>0.010193</td>\n",
       "    </tr>\n",
       "  </tbody>\n",
       "</table>\n",
       "<p>5 rows × 28 columns</p>\n",
       "</div>"
      ]
     },
     "execution_count": 203,
     "metadata": {},
     "output_type": "execute_result"
    }
   ],
   "execution_count": 203
  },
  {
   "metadata": {
    "ExecuteTime": {
     "end_time": "2024-10-06T13:27:47.108115Z",
     "start_time": "2024-10-06T13:27:47.103308Z"
    }
   },
   "cell_type": "code",
   "source": [
    "#构造数据集\n",
    "X = data2.values  #注意：要使用的是data2里的数据"
   ],
   "id": "280e327ac461ed9a",
   "outputs": [],
   "execution_count": 204
  },
  {
   "metadata": {
    "ExecuteTime": {
     "end_time": "2024-10-06T13:27:47.176456Z",
     "start_time": "2024-10-06T13:27:47.171492Z"
    }
   },
   "cell_type": "code",
   "source": "X.shape",
   "id": "ce518cbad22d74b",
   "outputs": [
    {
     "data": {
      "text/plain": [
       "(118, 28)"
      ]
     },
     "execution_count": 205,
     "metadata": {},
     "output_type": "execute_result"
    }
   ],
   "execution_count": 205
  },
  {
   "metadata": {
    "ExecuteTime": {
     "end_time": "2024-10-06T13:27:47.459090Z",
     "start_time": "2024-10-06T13:27:47.454380Z"
    }
   },
   "cell_type": "code",
   "source": "y = data.iloc[:, -1].values",
   "id": "50e57b85fde33432",
   "outputs": [],
   "execution_count": 206
  },
  {
   "metadata": {
    "ExecuteTime": {
     "end_time": "2024-10-06T13:27:47.565268Z",
     "start_time": "2024-10-06T13:27:47.561016Z"
    }
   },
   "cell_type": "code",
   "source": [
    "y = y.reshape(len(y), 1)\n",
    "y.shape"
   ],
   "id": "694153db7fa6e9fc",
   "outputs": [
    {
     "data": {
      "text/plain": [
       "(118, 1)"
      ]
     },
     "execution_count": 207,
     "metadata": {},
     "output_type": "execute_result"
    }
   ],
   "execution_count": 207
  },
  {
   "metadata": {},
   "cell_type": "markdown",
   "source": "<font size='7'>***损失函数***</font>",
   "id": "b8d7d26b9a808063"
  },
  {
   "metadata": {
    "ExecuteTime": {
     "end_time": "2024-10-06T13:27:47.697761Z",
     "start_time": "2024-10-06T13:27:47.695158Z"
    }
   },
   "cell_type": "code",
   "source": [
    "def sigmoid(x):\n",
    "    return 1 / (1 + np.exp(-x))"
   ],
   "id": "3b5828c275e90141",
   "outputs": [],
   "execution_count": 208
  },
  {
   "metadata": {
    "ExecuteTime": {
     "end_time": "2024-10-06T13:27:47.727376Z",
     "start_time": "2024-10-06T13:27:47.722989Z"
    }
   },
   "cell_type": "code",
   "source": [
    "def costFunction(X, y, theta, lamda):\n",
    "    A = sigmoid(X @ theta)\n",
    "    first = y * np.log(A)\n",
    "    second = (1 - y) * np.log(1 - A)\n",
    "    #正则化\n",
    "    reg = np.sum(np.power(theta[1:], 2)) * (lamda / (2 * len(X)))  #注意theta是从1开始的，并非0\n",
    "    return -np.sum(first + second) / len(X) + reg"
   ],
   "id": "4c4bd00a1ec7a436",
   "outputs": [],
   "execution_count": 209
  },
  {
   "metadata": {
    "ExecuteTime": {
     "end_time": "2024-10-06T13:27:47.748790Z",
     "start_time": "2024-10-06T13:27:47.743490Z"
    }
   },
   "cell_type": "code",
   "source": [
    "theta = np.zeros((28, 1))\n",
    "theta.shape"
   ],
   "id": "f21f1b08025ebfb1",
   "outputs": [
    {
     "data": {
      "text/plain": [
       "(28, 1)"
      ]
     },
     "execution_count": 210,
     "metadata": {},
     "output_type": "execute_result"
    }
   ],
   "execution_count": 210
  },
  {
   "metadata": {
    "ExecuteTime": {
     "end_time": "2024-10-06T13:27:47.799295Z",
     "start_time": "2024-10-06T13:27:47.795910Z"
    }
   },
   "cell_type": "code",
   "source": "lamda = 1",
   "id": "2d8efa652cf6347d",
   "outputs": [],
   "execution_count": 211
  },
  {
   "metadata": {
    "ExecuteTime": {
     "end_time": "2024-10-06T13:27:47.821696Z",
     "start_time": "2024-10-06T13:27:47.813443Z"
    }
   },
   "cell_type": "code",
   "source": [
    "cost_init = costFunction(X, y, theta, lamda)\n",
    "print(cost_init)"
   ],
   "id": "1c19382a977f4ed2",
   "outputs": [
    {
     "name": "stdout",
     "output_type": "stream",
     "text": [
      "0.6931471805599454\n"
     ]
    }
   ],
   "execution_count": 212
  },
  {
   "metadata": {},
   "cell_type": "markdown",
   "source": "<font size='7'>***梯度下降***</font>",
   "id": "639fe79cb33a5595"
  },
  {
   "metadata": {
    "ExecuteTime": {
     "end_time": "2024-10-06T13:27:47.866604Z",
     "start_time": "2024-10-06T13:27:47.859556Z"
    }
   },
   "cell_type": "code",
   "source": [
    "def gradientDecscent(X, y, theta, alpha, iters, lamda):\n",
    "    costs = []\n",
    "    for i in range(iters):\n",
    "        reg = theta[1:] * (lamda / len(X))  #注意从1开始取\n",
    "        reg = np.insert(reg, 0, values=0, axis=0)\n",
    "\n",
    "        A = sigmoid(X @ theta)\n",
    "\n",
    "        theta = theta - ((X.T @ (A - y)) / len(X) + reg) * alpha\n",
    "        cost = costFunction(X, y, theta, lamda)\n",
    "        costs.append(cost)\n",
    "        if i % 1000 == 0:\n",
    "            print(cost)\n",
    "    return theta, costs"
   ],
   "id": "315fe5fe32edeba",
   "outputs": [],
   "execution_count": 213
  },
  {
   "metadata": {
    "ExecuteTime": {
     "end_time": "2024-10-06T13:27:47.886680Z",
     "start_time": "2024-10-06T13:27:47.883728Z"
    }
   },
   "cell_type": "code",
   "source": [
    "alpha = 0.001\n",
    "iters = 200000\n",
    "lamda = 0.001"
   ],
   "id": "f667e7761da64754",
   "outputs": [],
   "execution_count": 214
  },
  {
   "metadata": {
    "ExecuteTime": {
     "end_time": "2024-10-06T13:27:54.625914Z",
     "start_time": "2024-10-06T13:27:47.903961Z"
    }
   },
   "cell_type": "code",
   "source": "theta_finals, costs = gradientDecscent(X, y, theta, alpha, iters, lamda)",
   "id": "521a0a2e68aac815",
   "outputs": [
    {
     "name": "stdout",
     "output_type": "stream",
     "text": [
      "0.693134380798985\n",
      "0.6818207729778132\n",
      "0.6725974534826156\n",
      "0.6646386240403803\n",
      "0.6575093538238375\n",
      "0.6509718395182028\n",
      "0.6448884710940885\n",
      "0.6391737353688465\n",
      "0.6337702418573659\n",
      "0.6286366014804017\n",
      "0.6237411486351027\n",
      "0.6190585708214382\n",
      "0.6145680074385785\n",
      "0.6102519084447487\n",
      "0.606095299581356\n",
      "0.6020852755591007\n",
      "0.5982106289182401\n",
      "0.5944615653289779\n",
      "0.5908294778704328\n",
      "0.5873067640636913\n",
      "0.5838866754107955\n",
      "0.5805631925079233\n",
      "0.577330920746929\n",
      "0.5741850028389882\n",
      "0.5711210452127982\n",
      "0.5681350559248265\n",
      "0.5652233921588479\n",
      "0.562382715734808\n",
      "0.5596099553210294\n",
      "0.5569022742661285\n",
      "0.5542570431493508\n",
      "0.5516718162983199\n",
      "0.5491443116476304\n",
      "0.5466723934148942\n",
      "0.5442540571565863\n",
      "0.5418874168373466\n",
      "0.539570693605747\n",
      "0.5373022060189993\n",
      "0.5350803615003241\n",
      "0.5329036488471292\n",
      "0.5307706316368959\n",
      "0.5286799424017217\n",
      "0.5266302774625863\n",
      "0.5246203923312625\n",
      "0.522649097601925\n",
      "0.5207152552663782\n",
      "0.5188177753967813\n",
      "0.5169556131481398\n",
      "0.5151277660398903\n",
      "0.5133332714818484\n",
      "0.5115712045148232\n",
      "0.5098406757404322\n",
      "0.5081408294182519\n",
      "0.5064708417114693\n",
      "0.50482991906479\n",
      "0.5032172967005378\n",
      "0.5016322372207567\n",
      "0.5000740293047026\n",
      "0.49854198649247966\n",
      "0.4970354460467208\n",
      "0.4955537678852184\n",
      "0.49409633357825156\n",
      "0.49266254540509435\n",
      "0.4912518254648173\n",
      "0.48986361483704166\n",
      "0.4884973727887731\n",
      "0.48715257602385476\n",
      "0.48582871797193317\n",
      "0.4845253081141376\n",
      "0.4832418713429521\n",
      "0.48197794735398947\n",
      "0.4807330900675886\n",
      "0.47950686707834167\n",
      "0.4782988591308211\n",
      "0.47710865961991644\n",
      "0.4759358741143259\n",
      "0.4747801199018578\n",
      "0.4736410255553038\n",
      "0.47251823051773423\n",
      "0.4714113847061507\n",
      "0.47032014813250883\n",
      "0.46924419054118877\n",
      "0.46818319106205236\n",
      "0.4671368378782874\n",
      "0.4661048279082862\n",
      "0.4650868665008536\n",
      "0.46408266714308516\n",
      "0.463091951180293\n",
      "0.46211444754739894\n",
      "0.46114989251123945\n",
      "0.46019802942327\n",
      "0.45925860848217476\n",
      "0.45833138650592375\n",
      "0.45741612671283677\n",
      "0.45651259851124554\n",
      "0.45562057729735994\n",
      "0.45473984426096953\n",
      "0.45387018619862807\n",
      "0.45301139533399154\n",
      "0.45216326914498944\n",
      "0.45132561019753353\n",
      "0.45049822598547656\n",
      "0.449680928776552\n",
      "0.44887353546403763\n",
      "0.4480758674238959\n",
      "0.447287750377163\n",
      "0.44650901425736056\n",
      "0.4457394930827207\n",
      "0.44497902483302515\n",
      "0.4442274513308632\n",
      "0.443484618127131\n",
      "0.44275037439059356\n",
      "0.44202457280134566\n",
      "0.441307069448015\n",
      "0.44059772372855205\n",
      "0.4398963982544684\n",
      "0.4392029587583794\n",
      "0.4385172740047259\n",
      "0.43783921570354417\n",
      "0.4371686584271688\n",
      "0.43650547952974916\n",
      "0.43584955906947337\n",
      "0.43520077973339377\n",
      "0.4345590267647533\n",
      "0.4339241878927162\n",
      "0.43329615326441373\n",
      "0.4326748153792151\n",
      "0.43206006902513794\n",
      "0.43145181121732257\n",
      "0.4308499411384882\n",
      "0.43025436008130025\n",
      "0.4296649713925752\n",
      "0.4290816804192594\n",
      "0.42850439445611155\n",
      "0.4279330226950315\n",
      "0.42736747617597065\n",
      "0.4268076677393732\n",
      "0.4262535119800853\n",
      "0.42570492520268716\n",
      "0.4251618253781898\n",
      "0.4246241321020563\n",
      "0.4240917665534929\n",
      "0.42356465145597044\n",
      "0.42304271103893154\n",
      "0.4225258710006409\n",
      "0.4220140584721423\n",
      "0.4215072019822799\n",
      "0.42100523142375107\n",
      "0.42050807802015305\n",
      "0.42001567429399134\n",
      "0.41952795403561477\n",
      "0.4190448522730495\n",
      "0.418566305242698\n",
      "0.4180922503608782\n",
      "0.41762262619616947\n",
      "0.4171573724425451\n",
      "0.416696429893259\n",
      "0.4162397404154687\n",
      "0.41578724692556257\n",
      "0.4153388933651758\n",
      "0.4148946246778685\n",
      "0.41445438678644536\n",
      "0.4140181265708975\n",
      "0.4135857918469452\n",
      "0.4131573313451634\n",
      "0.41273269469067014\n",
      "0.41231183238336283\n",
      "0.41189469577868126\n",
      "0.4114812370688857\n",
      "0.4110714092648287\n",
      "0.4106651661782101\n",
      "0.41026246240429726\n",
      "0.4098632533050975\n",
      "0.409467494992969\n",
      "0.40907514431465547\n",
      "0.408686158835734\n",
      "0.40830049682546177\n",
      "0.4079181172420093\n",
      "0.40753897971807157\n",
      "0.4071630445468427\n",
      "0.4067902726683427\n",
      "0.40642062565609194\n",
      "0.406054065704114\n",
      "0.40569055561426587\n",
      "0.40533005878387984\n",
      "0.4049725391937112\n",
      "0.4046179613961821\n",
      "0.4042662905039136\n",
      "0.40391749217853457\n",
      "0.403571532619766\n",
      "0.40322837855476446\n",
      "0.4028879972277255\n",
      "0.40255035638973347\n",
      "0.4022154242888548\n",
      "0.40188316966046506\n",
      "0.4015535617178061\n",
      "0.40122657014276447\n",
      "0.4009021650768659\n",
      "0.4005803171124806\n",
      "0.4002609972842328\n"
     ]
    }
   ],
   "execution_count": 215
  },
  {
   "metadata": {
    "ExecuteTime": {
     "end_time": "2024-10-06T13:27:54.645915Z",
     "start_time": "2024-10-06T13:27:54.639693Z"
    }
   },
   "cell_type": "code",
   "source": "theta_finals",
   "id": "37014f8eadfb8ae7",
   "outputs": [
    {
     "data": {
      "text/plain": [
       "array([[ 1.87409374],\n",
       "       [ 1.1843894 ],\n",
       "       [ 2.02186865],\n",
       "       [-3.10432578],\n",
       "       [-1.6883501 ],\n",
       "       [-2.13168461],\n",
       "       [ 0.32198006],\n",
       "       [-0.67395398],\n",
       "       [-0.63298727],\n",
       "       [-0.23959322],\n",
       "       [-2.37237357],\n",
       "       [-0.13987474],\n",
       "       [-1.02181183],\n",
       "       [-0.53636228],\n",
       "       [-1.93913088],\n",
       "       [-0.35675659],\n",
       "       [-0.38678341],\n",
       "       [-0.07575725],\n",
       "       [-0.48665931],\n",
       "       [-0.54632394],\n",
       "       [-0.75710603],\n",
       "       [-1.74449867],\n",
       "       [ 0.01562808],\n",
       "       [-0.49235847],\n",
       "       [ 0.00558596],\n",
       "       [-0.55696471],\n",
       "       [-0.29755914],\n",
       "       [-1.56297635]])"
      ]
     },
     "execution_count": 216,
     "metadata": {},
     "output_type": "execute_result"
    }
   ],
   "execution_count": 216
  },
  {
   "metadata": {
    "ExecuteTime": {
     "end_time": "2024-10-06T13:27:54.777715Z",
     "start_time": "2024-10-06T13:27:54.773944Z"
    }
   },
   "cell_type": "code",
   "source": [
    "def predict(X, theta):\n",
    "    prob = sigmoid(X @ theta)\n",
    "    return [1 if x >= 0.5 else 0 for x in prob]"
   ],
   "id": "e7b2fb53e298eb3e",
   "outputs": [],
   "execution_count": 217
  },
  {
   "metadata": {
    "ExecuteTime": {
     "end_time": "2024-10-06T13:30:11.634936Z",
     "start_time": "2024-10-06T13:30:11.627954Z"
    }
   },
   "cell_type": "code",
   "source": [
    "y_ = np.array(predict(X, theta_finals))\n",
    "y_pre = y_.reshape(len(y_), 1)\n",
    "\n",
    "acc = np.mean(y_pre == y)\n",
    "print(acc)"
   ],
   "id": "316a2df59d592e8f",
   "outputs": [
    {
     "name": "stdout",
     "output_type": "stream",
     "text": [
      "0.8135593220338984\n"
     ]
    }
   ],
   "execution_count": 219
  },
  {
   "metadata": {
    "ExecuteTime": {
     "end_time": "2024-10-06T13:36:00.207092Z",
     "start_time": "2024-10-06T13:36:00.042457Z"
    }
   },
   "cell_type": "code",
   "source": [
    "#决策界面显示\n",
    "x = np.linspace(-1.2, 1.2, 200)\n",
    "xx, yy = np.meshgrid(x, x)  #网格\n",
    "z = feature_mapping(xx.ravel(), yy.ravel(), 6).values\n",
    "#对 xx 和 yy 进行特征映射通常是为了将二维空间中的点映射到更高维的特征空间中。\n",
    "zz = z @ theta_finals\n",
    "zz = zz.reshape(xx.shape)\n",
    "\n",
    "fig, ax = plt.subplots()\n",
    "ax.scatter(data[data['Accepted'] == 0]['Test 1'], data[data['Accepted'] == 0]['Test 2'], c='r', marker='x',\n",
    "           label='y=0')  #未被接收\n",
    "ax.scatter(data[data['Accepted'] == 1]['Test 1'], data[data['Accepted'] == 1]['Test 2'], c='b', marker='o',\n",
    "           label='y=1')  #接收\n",
    "ax.legend()\n",
    "ax.set(xlabel='Test1', ylabel='Test2')\n",
    "plt.contour(xx, yy, zz, 0)\n",
    "plt.show()"
   ],
   "id": "94c63864a789d85b",
   "outputs": [
    {
     "data": {
      "text/plain": [
       "<Figure size 640x480 with 1 Axes>"
      ],
      "image/png": "[encoded data removed]"
     },
     "metadata": {},
     "output_type": "display_data"
    }
   ],
   "execution_count": 220
  },
  {
   "metadata": {},
   "cell_type": "markdown",
   "source": [
    "在 Python 的 Matplotlib 库中，plt.contour 函数用于绘制等高线图。这个函数可以创建三维数据的二维等高线表示。当你调用 plt.contour(xx, yy, zz, 0) 时，你正在请求绘制等高线图中的一个特定等高线，这个等高线对应于 zz 数组中的最小值。\n",
    "\n",
    "下面是 plt.contour 函数的一些基本用法：\n",
    "\n",
    "参数解释：\n",
    "xx: 通常是一个二维数组，表示等高线图的 X 坐标网格。\n",
    "yy: 通常是一个二维数组，表示等高线图的 Y 坐标网格。\n",
    "zz: 一个与 xx 和 yy 对应的二维数组，表示在每个 (X, Y) 点的函数值。\n",
    "0: 这是等高线级别参数，表示绘制 zz 中值为最小的等高线。"
   ],
   "id": "f55b0c880a51e2fe"
  },
  {
   "metadata": {},
   "cell_type": "markdown",
   "source": "特征映射（Feature Mapping）是数据预处理中的一种技术，其目的是将原始数据转换为新的特征表示，以便更适合进行机器学习或统计分析。特征映射可以增强模型的性能，使其能够更有效地学习和预测。",
   "id": "b650fed71547c46"
  },
  {
   "metadata": {},
   "cell_type": "markdown",
   "source": [
    "在您提供的代码片段中，`xx.ravel()` 和 `yy.ravel()` 被用来将二维的网格数据 `xx` 和 `yy` 转换为一维数组。`ravel()` 函数是 NumPy 库中的一个函数，它将多维数组\"展平\"或\"拉直\"成一维数组。\n",
    "\n",
    "在特征映射的上下文中，`ravel()` 通常被用于准备数据以用于计算。由于机器学习模型，尤其是那些用于特征学习的模型，通常需要一维数组形式的输入，`ravel()` 函数就非常有用。它使得我们可以将多维网格数据转换成线性序列，然后可以用于计算特征映射或作为模型的输入。\n",
    "\n",
    "例如，如果您正在使用一个机器学习模型来处理图像数据，您可能会将每个图像表示为一个一维数组。这样，每个图像的所有像素值都会按顺序排列成一个长列表。这使得模型可以更有效地处理数据，因为一维数组在很多数学运算和模型算法中都更为常见和方便。\n",
    "\n",
    "在您的场景中，`xx` 和 `yy` 可能代表了二维空间中的网格点，而 `ravel()` 函数则用于将这些网格点的坐标转换为一维数组，以便后续计算。这样，每个点的坐标都可以被模型逐一处理，例如，在计算决策函数或进行特征映射时 。\n"
   ],
   "id": "87e2ae4d1c188b9b"
  }
 ],
 "metadata": {
  "kernelspec": {
   "display_name": "Python 3",
   "language": "python",
   "name": "python3"
  },
  "language_info": {
   "codemirror_mode": {
    "name": "ipython",
    "version": 2
   },
   "file_extension": ".py",
   "mimetype": "text/x-python",
   "name": "python",
   "nbconvert_exporter": "python",
   "pygments_lexer": "ipython2",
   "version": "2.7.6"
  }
 },
 "nbformat": 4,
 "nbformat_minor": 5
}
