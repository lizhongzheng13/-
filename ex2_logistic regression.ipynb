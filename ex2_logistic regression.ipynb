{
 "cells": [
  {
   "cell_type": "code",
   "id": "initial_id",
   "metadata": {
    "collapsed": true,
    "ExecuteTime": {
     "end_time": "2024-10-06T12:47:12.563909Z",
     "start_time": "2024-10-06T12:47:12.542588Z"
    }
   },
   "source": [
    "import numpy as np\n",
    "import pandas as pd\n",
    "import matplotlib.pyplot as plt\n",
    "from numpy.ma.core import array"
   ],
   "outputs": [],
   "execution_count": 100
  },
  {
   "metadata": {
    "ExecuteTime": {
     "end_time": "2024-10-06T12:47:12.629399Z",
     "start_time": "2024-10-06T12:47:12.589819Z"
    }
   },
   "cell_type": "code",
   "source": [
    "data = pd.read_csv('ex2data1.txt', names=['Exam 1', 'Exam 2', 'Accepted'])\n",
    "data.head()"
   ],
   "id": "34ec250b9e540e5b",
   "outputs": [
    {
     "data": {
      "text/plain": [
       "      Exam 1     Exam 2  Accepted\n",
       "0  34.623660  78.024693         0\n",
       "1  30.286711  43.894998         0\n",
       "2  35.847409  72.902198         0\n",
       "3  60.182599  86.308552         1\n",
       "4  79.032736  75.344376         1"
      ],
      "text/html": [
       "<div>\n",
       "<style scoped>\n",
       "    .dataframe tbody tr th:only-of-type {\n",
       "        vertical-align: middle;\n",
       "    }\n",
       "\n",
       "    .dataframe tbody tr th {\n",
       "        vertical-align: top;\n",
       "    }\n",
       "\n",
       "    .dataframe thead th {\n",
       "        text-align: right;\n",
       "    }\n",
       "</style>\n",
       "<table border=\"1\" class=\"dataframe\">\n",
       "  <thead>\n",
       "    <tr style=\"text-align: right;\">\n",
       "      <th></th>\n",
       "      <th>Exam 1</th>\n",
       "      <th>Exam 2</th>\n",
       "      <th>Accepted</th>\n",
       "    </tr>\n",
       "  </thead>\n",
       "  <tbody>\n",
       "    <tr>\n",
       "      <th>0</th>\n",
       "      <td>34.623660</td>\n",
       "      <td>78.024693</td>\n",
       "      <td>0</td>\n",
       "    </tr>\n",
       "    <tr>\n",
       "      <th>1</th>\n",
       "      <td>30.286711</td>\n",
       "      <td>43.894998</td>\n",
       "      <td>0</td>\n",
       "    </tr>\n",
       "    <tr>\n",
       "      <th>2</th>\n",
       "      <td>35.847409</td>\n",
       "      <td>72.902198</td>\n",
       "      <td>0</td>\n",
       "    </tr>\n",
       "    <tr>\n",
       "      <th>3</th>\n",
       "      <td>60.182599</td>\n",
       "      <td>86.308552</td>\n",
       "      <td>1</td>\n",
       "    </tr>\n",
       "    <tr>\n",
       "      <th>4</th>\n",
       "      <td>79.032736</td>\n",
       "      <td>75.344376</td>\n",
       "      <td>1</td>\n",
       "    </tr>\n",
       "  </tbody>\n",
       "</table>\n",
       "</div>"
      ]
     },
     "execution_count": 101,
     "metadata": {},
     "output_type": "execute_result"
    }
   ],
   "execution_count": 101
  },
  {
   "metadata": {
    "ExecuteTime": {
     "end_time": "2024-10-06T12:47:12.783442Z",
     "start_time": "2024-10-06T12:47:12.676704Z"
    }
   },
   "cell_type": "code",
   "source": [
    "#数据可视化\n",
    "fig, ax = plt.subplots()  #用于创建一个图形（fig）和一个坐标轴（ax）\n",
    "\n",
    "#接收的为一类，未被接收的为一类\n",
    "ax.scatter(data[data['Accepted'] == 0]['Exam 1'], data[data['Accepted'] == 0]['Exam 2'], color='red', marker='x',\n",
    "           label='y=0')  #未被接收\n",
    "\n",
    "ax.scatter(data[data['Accepted'] == 1]['Exam 1'], data[data['Accepted'] == 1]['Exam 2'], color='blue', marker='o',\n",
    "           label='y=1')  #接收\n",
    "ax.legend()\n",
    "ax.set(xlabel='exam1', ylabel='exam2')\n",
    "plt.show()\n"
   ],
   "id": "268afe883a39264a",
   "outputs": [
    {
     "data": {
      "text/plain": [
       "<Figure size 640x480 with 1 Axes>"
      ],
      "image/png": "[encoded data removed]"
     },
     "metadata": {},
     "output_type": "display_data"
    }
   ],
   "execution_count": 102
  },
  {
   "metadata": {
    "ExecuteTime": {
     "end_time": "2024-10-06T12:47:12.850042Z",
     "start_time": "2024-10-06T12:47:12.846034Z"
    }
   },
   "cell_type": "code",
   "source": [
    "#将之前作业完成准备工作构造出一个数据集\n",
    "def get_Xy(data):\n",
    "    data.insert(0, 'ones', 1)\n",
    "    X_ = data.iloc[:, 0: -1]\n",
    "    y_ = data.iloc[:, -1]\n",
    "    X = X_.values\n",
    "    y = y_.values.reshape(len(y_), 1)\n",
    "    return X, y"
   ],
   "id": "d8e753985bf03186",
   "outputs": [],
   "execution_count": 103
  },
  {
   "metadata": {
    "ExecuteTime": {
     "end_time": "2024-10-06T12:47:12.888496Z",
     "start_time": "2024-10-06T12:47:12.877727Z"
    }
   },
   "cell_type": "code",
   "source": "X, y = get_Xy(data)",
   "id": "9d7cf3f3b285f6c0",
   "outputs": [],
   "execution_count": 104
  },
  {
   "metadata": {
    "ExecuteTime": {
     "end_time": "2024-10-06T12:47:12.928175Z",
     "start_time": "2024-10-06T12:47:12.912486Z"
    }
   },
   "cell_type": "code",
   "source": "X.shape",
   "id": "bee1d4652657d23b",
   "outputs": [
    {
     "data": {
      "text/plain": [
       "(100, 3)"
      ]
     },
     "execution_count": 105,
     "metadata": {},
     "output_type": "execute_result"
    }
   ],
   "execution_count": 105
  },
  {
   "metadata": {
    "ExecuteTime": {
     "end_time": "2024-10-06T12:47:12.990974Z",
     "start_time": "2024-10-06T12:47:12.972967Z"
    }
   },
   "cell_type": "code",
   "source": "y.shape",
   "id": "c5600bbb80caeba",
   "outputs": [
    {
     "data": {
      "text/plain": [
       "(100, 1)"
      ]
     },
     "execution_count": 106,
     "metadata": {},
     "output_type": "execute_result"
    }
   ],
   "execution_count": 106
  },
  {
   "metadata": {
    "ExecuteTime": {
     "end_time": "2024-10-06T12:47:13.043637Z",
     "start_time": "2024-10-06T12:47:13.035572Z"
    }
   },
   "cell_type": "code",
   "source": [
    "def sigmoid(z):\n",
    "    return 1 / (1 + np.exp(-z))"
   ],
   "id": "7ba679c5bcee524b",
   "outputs": [],
   "execution_count": 107
  },
  {
   "metadata": {
    "ExecuteTime": {
     "end_time": "2024-10-06T12:47:13.060780Z",
     "start_time": "2024-10-06T12:47:13.053254Z"
    }
   },
   "cell_type": "code",
   "source": [
    "def costFunction(X, y, theta):\n",
    "    A = sigmoid(X @ theta)\n",
    "    first = y * np.log(A)\n",
    "    second = (1 - y) * np.log(1 - A)\n",
    "    return -np.sum(first + second) / len(X)  #注意：first和second是向量，要做累积，所有使用sum函数进行求和"
   ],
   "id": "282109587b9e12fe",
   "outputs": [],
   "execution_count": 108
  },
  {
   "metadata": {
    "ExecuteTime": {
     "end_time": "2024-10-06T12:47:13.078220Z",
     "start_time": "2024-10-06T12:47:13.070525Z"
    }
   },
   "cell_type": "code",
   "source": [
    "theta = np.zeros((3, 1))\n",
    "theta.shape"
   ],
   "id": "ba321dcebd7e126f",
   "outputs": [
    {
     "data": {
      "text/plain": [
       "(3, 1)"
      ]
     },
     "execution_count": 109,
     "metadata": {},
     "output_type": "execute_result"
    }
   ],
   "execution_count": 109
  },
  {
   "metadata": {
    "ExecuteTime": {
     "end_time": "2024-10-06T12:47:13.105951Z",
     "start_time": "2024-10-06T12:47:13.088764Z"
    }
   },
   "cell_type": "code",
   "source": [
    "cost_init = costFunction(X, y, theta)\n",
    "print(cost_init)"
   ],
   "id": "502aaaf36002d0a",
   "outputs": [
    {
     "name": "stdout",
     "output_type": "stream",
     "text": [
      "0.6931471805599453\n"
     ]
    }
   ],
   "execution_count": 110
  },
  {
   "metadata": {
    "ExecuteTime": {
     "end_time": "2024-10-06T12:47:13.230284Z",
     "start_time": "2024-10-06T12:47:13.214760Z"
    }
   },
   "cell_type": "code",
   "source": [
    "def gradientDescent(X, y, theta, alpha, iters):\n",
    "    m = len(X)\n",
    "    costs = []\n",
    "    for i in range(iters):\n",
    "        A = sigmoid(X @ theta)\n",
    "        theta = theta - (alpha / m) * (X.T @ (A - y))\n",
    "        cost = costFunction(X, y, theta)\n",
    "        costs.append(cost)\n",
    "        if i % 1000 == 0:\n",
    "            print(cost)\n",
    "    return theta, cost"
   ],
   "id": "f9d5f807d13597c4",
   "outputs": [],
   "execution_count": 111
  },
  {
   "metadata": {
    "ExecuteTime": {
     "end_time": "2024-10-06T12:47:13.267805Z",
     "start_time": "2024-10-06T12:47:13.262154Z"
    }
   },
   "cell_type": "code",
   "source": [
    "alpha = 0.004\n",
    "iters = 200000"
   ],
   "id": "1ce2908221d098e1",
   "outputs": [],
   "execution_count": 112
  },
  {
   "metadata": {
    "ExecuteTime": {
     "end_time": "2024-10-06T12:47:17.001724Z",
     "start_time": "2024-10-06T12:47:13.307088Z"
    }
   },
   "cell_type": "code",
   "source": "theta_final, cost = gradientDescent(X, y, theta, alpha, iters)",
   "id": "c5665e55a0026aed",
   "outputs": [
    {
     "name": "stdout",
     "output_type": "stream",
     "text": [
      "1.9886538578930086\n",
      "3.0781700198641544\n",
      "5.487009635362496\n",
      "1.851943366133264\n",
      "2.9551289424083573\n",
      "5.438688730769618\n",
      "1.8046128090728502\n",
      "2.8312715776074047\n",
      "5.3886531633606145\n",
      "1.7561538117121556\n",
      "2.706676380747814\n",
      "5.3365673644957425\n",
      "1.706280704769481\n",
      "2.5818508519054277\n",
      "5.281774101800353\n",
      "1.6544129958512037\n",
      "2.4578430947435765\n",
      "5.223255119969365\n",
      "1.5996612097145546\n",
      "2.3362477519414626\n",
      "5.159653459570274\n",
      "1.5408871901849082\n",
      "2.219049203846889\n",
      "5.089387088751128\n",
      "1.4768567851081464\n",
      "2.1082685090536497\n",
      "5.010845104587983\n",
      "1.406449363280585\n",
      "2.0054338903832694\n",
      "4.9225734611717336\n",
      "1.3288041261254435\n",
      "1.9109646054893665\n",
      "4.823257484826611\n",
      "1.2432202250971685\n",
      "1.8235866121521394\n",
      "4.711246821296763\n",
      "1.148627793213957\n",
      "1.7397667362448002\n",
      "4.58325740045735\n",
      "1.0423478306006686\n",
      "1.6525865746034043\n",
      "4.430932868329269\n",
      "0.9166267386002204\n",
      "1.5465331276550867\n",
      "4.224624720512682\n",
      "0.7330944584991166\n",
      "4.01632549891199\n",
      "0.7559527960324565\n",
      "0.5966969666560346\n",
      "1.6862262743312635\n",
      "0.4149967702248092\n",
      "1.92207863313351\n",
      "0.5662012970472322\n",
      "2.46239219664654\n",
      "0.5100726187538948\n",
      "0.8690957821028512\n",
      "0.5499940309686188\n",
      "0.2992906309568157\n",
      "3.2808075558351435\n",
      "0.27955243273816116\n",
      "0.2345807777538396\n",
      "0.27167744521776177\n",
      "0.23889978621437438\n",
      "0.3029287532687686\n",
      "1.0646370245239525\n",
      "1.0073476941684485\n",
      "0.3931240732513183\n",
      "1.3919794736154225\n",
      "2.531095424543213\n",
      "0.22951254237269517\n",
      "1.0803655353728874\n",
      "0.8981117954243791\n",
      "1.6443881377693474\n",
      "0.7516493178337552\n",
      "1.1718357072486747\n",
      "1.1555868411663177\n",
      "0.3625061219958377\n",
      "1.4471780089344313\n",
      "2.1073373516784453\n",
      "1.631398689897375\n",
      "1.8260243276438988\n",
      "1.7323894681173382\n",
      "1.7488875615084511\n",
      "1.7853071981852962\n",
      "1.792772162433313\n",
      "1.7590526138561449\n",
      "1.7235633692214554\n",
      "1.6859050238012463\n",
      "1.6455221049853361\n",
      "1.6016001086450407\n",
      "1.5528529305980894\n",
      "1.497012826454922\n",
      "1.4292803209972627\n",
      "1.335075560466049\n",
      "1.1955378983414442\n",
      "1.1771588182644894\n",
      "1.1611134384410406\n",
      "1.1451375647060937\n",
      "1.1292348749873495\n",
      "1.11340954615635\n",
      "1.0976662127007997\n",
      "1.08200992005343\n",
      "1.066446072619813\n",
      "1.0509803767368628\n",
      "1.0356187790057734\n",
      "1.0203674006682335\n",
      "1.0052324689183028\n",
      "0.9902202462493502\n",
      "0.9753369591108901\n",
      "0.9605887272770158\n",
      "0.9459814953973898\n",
      "0.9315209682018465\n",
      "0.9172125507601518\n",
      "0.9030612950596704\n",
      "0.8890718539651299\n",
      "0.8752484433772696\n",
      "0.8615948131282418\n",
      "0.8481142268578595\n",
      "0.8348094508248403\n",
      "0.8216827513364805\n",
      "0.8087359002436432\n",
      "0.7959701877533992\n",
      "0.7833864416670677\n",
      "0.7709850520567485\n",
      "0.758766000347958\n",
      "0.7467288917747403\n",
      "0.7348729902102633\n",
      "0.7231972544421797\n",
      "0.7117003750506015\n",
      "0.7003808111493501\n",
      "0.6892368263606053\n",
      "0.6782665235048505\n",
      "0.6674678775951512\n",
      "0.6568387668259219\n",
      "0.6463770013373356\n",
      "0.6360803496173388\n",
      "0.6259465624720844\n",
      "0.6159733945534008\n",
      "0.6061586234785092\n",
      "0.5965000666142593\n",
      "0.5869955956253347\n",
      "0.5776431489057317\n",
      "0.5684407420252913\n",
      "0.5593864763299864\n",
      "0.5504785458364231\n",
      "0.5417152425589057\n",
      "0.5330949604021453\n",
      "0.5246161977449202\n",
      "0.5162775588300847\n",
      "0.5080777540655962\n",
      "0.5000155993291938\n",
      "0.49209001435739863\n",
      "0.48430002028711683\n",
      "0.47664473640667654\n",
      "0.4691233761622766\n",
      "0.46173524245585357\n",
      "0.45447972226282024\n",
      "0.4473562805911709\n",
      "0.4403644537997604\n",
      "0.4335038422916173\n",
      "0.42677410259908555\n",
      "0.4201749388808731\n",
      "0.4137060938576216\n",
      "0.4073673392213641\n",
      "0.40115846556568185\n",
      "0.3950792718968951\n",
      "0.3891295548017372\n",
      "0.383309097363321\n",
      "0.3776176579335382\n",
      "0.37205495888601753\n",
      "0.36662067548819655\n",
      "0.3613144250432449\n",
      "0.3561357564609231\n",
      "0.3510841404211294\n",
      "0.3461589602935406\n",
      "0.3413595039708815\n",
      "0.33668495676249505\n",
      "0.3321343954778351\n",
      "0.32770678380844404\n",
      "0.32340096909055044\n",
      "0.31921568050162635\n",
      "0.3151495287126559\n",
      "0.31120100698541575\n",
      "0.30736849367248015\n",
      "0.303650256047388\n",
      "0.30004445536520313\n",
      "0.29654915303073615\n",
      "0.29316231773250445\n",
      "0.28988183338776286\n",
      "0.2867055077351404\n",
      "0.2836310814088069\n",
      "0.2806562373299273\n",
      "0.2777786102575233\n",
      "0.2749957963510068\n",
      "0.2723053626092174\n",
      "0.26970485606674505\n",
      "0.2671918126440035\n",
      "0.26476376556541775\n",
      "0.26241825327693125\n",
      "0.2601528268109933\n"
     ]
    }
   ],
   "execution_count": 113
  },
  {
   "metadata": {
    "ExecuteTime": {
     "end_time": "2024-10-06T12:47:17.021504Z",
     "start_time": "2024-10-06T12:47:17.005345Z"
    }
   },
   "cell_type": "code",
   "source": "theta_final",
   "id": "8a5958df3e3bc8b5",
   "outputs": [
    {
     "data": {
      "text/plain": [
       "array([[-23.77618089],\n",
       "       [  0.18693388],\n",
       "       [  0.18049979]])"
      ]
     },
     "execution_count": 114,
     "metadata": {},
     "output_type": "execute_result"
    }
   ],
   "execution_count": 114
  },
  {
   "metadata": {
    "ExecuteTime": {
     "end_time": "2024-10-06T12:47:17.071370Z",
     "start_time": "2024-10-06T12:47:17.066950Z"
    }
   },
   "cell_type": "code",
   "source": [
    "def predict(X, theta):\n",
    "    prob = sigmoid(X @ theta)\n",
    "    return [1 if x >= 0.5 else 0 for x in prob]"
   ],
   "id": "f52a19700b8abf7",
   "outputs": [],
   "execution_count": 115
  },
  {
   "metadata": {
    "ExecuteTime": {
     "end_time": "2024-10-06T12:47:17.345822Z",
     "start_time": "2024-10-06T12:47:17.340940Z"
    }
   },
   "cell_type": "code",
   "source": [
    "y_ = np.array(predict(X, theta_final))\n",
    "y_pre = y_.reshape(len(y_), 1)\n",
    "acc = np.mean(y_pre == y)  #np.mean 函数计算这些1和0的平均值，即模型预测正确的比例。\n",
    "print(acc)"
   ],
   "id": "657bb29405a918b9",
   "outputs": [
    {
     "name": "stdout",
     "output_type": "stream",
     "text": [
      "0.86\n"
     ]
    }
   ],
   "execution_count": 116
  },
  {
   "metadata": {
    "ExecuteTime": {
     "end_time": "2024-10-06T12:47:17.364392Z",
     "start_time": "2024-10-06T12:47:17.359376Z"
    }
   },
   "cell_type": "code",
   "source": [
    "#决策边界的显示\n",
    "coef1 = -theta_final[0, 0] / theta_final[2, 0]\n",
    "coef2 = -theta_final[1, 0] / theta_final[2, 0]"
   ],
   "id": "49f25ade7f2e139c",
   "outputs": [],
   "execution_count": 117
  },
  {
   "metadata": {
    "ExecuteTime": {
     "end_time": "2024-10-06T12:47:17.467795Z",
     "start_time": "2024-10-06T12:47:17.382657Z"
    }
   },
   "cell_type": "code",
   "source": [
    "x = np.linspace(20, 100, 100)\n",
    "f = coef1 + coef2 * x\n",
    "\n",
    "fig, ax = plt.subplots()\n",
    "ax.scatter(data[data['Accepted'] == 0]['Exam 1'], data[data['Accepted'] == 0]['Exam 2'], color='red', marker='x',\n",
    "           label='y=0')  #未被接收\n",
    "ax.scatter(data[data['Accepted'] == 1]['Exam 1'], data[data['Accepted'] == 1]['Exam 2'], color='blue', marker='o',\n",
    "           label='y=1')  #接收\n",
    "ax.plot(x, f, color='green')\n",
    "ax.legend()\n",
    "ax.set(xlabel='exam1', ylabel='exam2')\n",
    "plt.show()"
   ],
   "id": "c0d4cbd87c872c0e",
   "outputs": [
    {
     "data": {
      "text/plain": [
       "<Figure size 640x480 with 1 Axes>"
      ],
      "image/png": "[encoded data removed]"
     },
     "metadata": {},
     "output_type": "display_data"
    }
   ],
   "execution_count": 118
  }
 ],
 "metadata": {
  "kernelspec": {
   "display_name": "Python 3",
   "language": "python",
   "name": "python3"
  },
  "language_info": {
   "codemirror_mode": {
    "name": "ipython",
    "version": 2
   },
   "file_extension": ".py",
   "mimetype": "text/x-python",
   "name": "python",
   "nbconvert_exporter": "python",
   "pygments_lexer": "ipython2",
   "version": "2.7.6"
  }
 },
 "nbformat": 4,
 "nbformat_minor": 5
}
