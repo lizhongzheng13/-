{
 "cells": [
  {
   "metadata": {
    "ExecuteTime": {
     "end_time": "2024-09-24T22:54:02.591734Z",
     "start_time": "2024-09-24T22:54:01.333302Z"
    }
   },
   "cell_type": "code",
   "source": [
    "import numpy as np\n",
    "import pandas as pd\n",
    "import matplotlib.pyplot as plt"
   ],
   "id": "8f20f7228e9d7726",
   "outputs": [],
   "execution_count": 1
  },
  {
   "cell_type": "code",
   "id": "initial_id",
   "metadata": {
    "collapsed": true,
    "ExecuteTime": {
     "end_time": "2024-09-24T22:54:02.624668Z",
     "start_time": "2024-09-24T22:54:02.618191Z"
    }
   },
   "source": [
    "#房价预测。 ex1data2.txt：面积、卧室数、房价\n",
    "# In this part, you will implement linear regression with multiple variables to\n",
    "# predict the prices of houses. Suppose you are selling your house and you\n",
    "# want to know what a good market price would be. One way to do this is to\n",
    "# first collect information on recent houses sold and make a model of housing\n",
    "# prices.\n",
    "# The file ex1data2.txt contains a training set of housing prices in Port\u0002land, Oregon. The first column is the size of the house (in square feet), the second column is the number of bedrooms, and the third column is the price of the house.\n",
    "# 假设现在卖房子，想知道买了多少钱？"
   ],
   "outputs": [],
   "execution_count": 2
  },
  {
   "metadata": {
    "ExecuteTime": {
     "end_time": "2024-09-24T22:54:02.682842Z",
     "start_time": "2024-09-24T22:54:02.652348Z"
    }
   },
   "cell_type": "code",
   "source": [
    "#读取文件\n",
    "data = pd.read_csv('ex1data2.txt', names=['size', 'bedrooms', 'price'])\n",
    "data.head()\n"
   ],
   "id": "b07c88b5a3b6b399",
   "outputs": [
    {
     "data": {
      "text/plain": [
       "   size  bedrooms   price\n",
       "0  2104         3  399900\n",
       "1  1600         3  329900\n",
       "2  2400         3  369000\n",
       "3  1416         2  232000\n",
       "4  3000         4  539900"
      ],
      "text/html": [
       "<div>\n",
       "<style scoped>\n",
       "    .dataframe tbody tr th:only-of-type {\n",
       "        vertical-align: middle;\n",
       "    }\n",
       "\n",
       "    .dataframe tbody tr th {\n",
       "        vertical-align: top;\n",
       "    }\n",
       "\n",
       "    .dataframe thead th {\n",
       "        text-align: right;\n",
       "    }\n",
       "</style>\n",
       "<table border=\"1\" class=\"dataframe\">\n",
       "  <thead>\n",
       "    <tr style=\"text-align: right;\">\n",
       "      <th></th>\n",
       "      <th>size</th>\n",
       "      <th>bedrooms</th>\n",
       "      <th>price</th>\n",
       "    </tr>\n",
       "  </thead>\n",
       "  <tbody>\n",
       "    <tr>\n",
       "      <th>0</th>\n",
       "      <td>2104</td>\n",
       "      <td>3</td>\n",
       "      <td>399900</td>\n",
       "    </tr>\n",
       "    <tr>\n",
       "      <th>1</th>\n",
       "      <td>1600</td>\n",
       "      <td>3</td>\n",
       "      <td>329900</td>\n",
       "    </tr>\n",
       "    <tr>\n",
       "      <th>2</th>\n",
       "      <td>2400</td>\n",
       "      <td>3</td>\n",
       "      <td>369000</td>\n",
       "    </tr>\n",
       "    <tr>\n",
       "      <th>3</th>\n",
       "      <td>1416</td>\n",
       "      <td>2</td>\n",
       "      <td>232000</td>\n",
       "    </tr>\n",
       "    <tr>\n",
       "      <th>4</th>\n",
       "      <td>3000</td>\n",
       "      <td>4</td>\n",
       "      <td>539900</td>\n",
       "    </tr>\n",
       "  </tbody>\n",
       "</table>\n",
       "</div>"
      ]
     },
     "execution_count": 3,
     "metadata": {},
     "output_type": "execute_result"
    }
   ],
   "execution_count": 3
  },
  {
   "metadata": {
    "ExecuteTime": {
     "end_time": "2024-09-24T22:54:03.111689Z",
     "start_time": "2024-09-24T22:54:03.105688Z"
    }
   },
   "cell_type": "code",
   "source": [
    "#特征归一化：消除特征值之间的量纲的影响，各特征值处于同一数量级。提升模型的精度\n",
    "def normalize(data):\n",
    "    return (data - data.mean()) / data.std()"
   ],
   "id": "47c653aed3a31c33",
   "outputs": [],
   "execution_count": 4
  },
  {
   "metadata": {
    "ExecuteTime": {
     "end_time": "2024-09-24T22:54:03.432378Z",
     "start_time": "2024-09-24T22:54:03.425469Z"
    }
   },
   "cell_type": "code",
   "source": "data = normalize(data)",
   "id": "c687d62154061c05",
   "outputs": [],
   "execution_count": 5
  },
  {
   "metadata": {
    "ExecuteTime": {
     "end_time": "2024-09-24T22:54:03.634671Z",
     "start_time": "2024-09-24T22:54:03.615070Z"
    }
   },
   "cell_type": "code",
   "source": "data.head()",
   "id": "14f96f99faee532",
   "outputs": [
    {
     "data": {
      "text/plain": [
       "       size  bedrooms     price\n",
       "0  0.130010 -0.223675  0.475747\n",
       "1 -0.504190 -0.223675 -0.084074\n",
       "2  0.502476 -0.223675  0.228626\n",
       "3 -0.735723 -1.537767 -0.867025\n",
       "4  1.257476  1.090417  1.595389"
      ],
      "text/html": [
       "<div>\n",
       "<style scoped>\n",
       "    .dataframe tbody tr th:only-of-type {\n",
       "        vertical-align: middle;\n",
       "    }\n",
       "\n",
       "    .dataframe tbody tr th {\n",
       "        vertical-align: top;\n",
       "    }\n",
       "\n",
       "    .dataframe thead th {\n",
       "        text-align: right;\n",
       "    }\n",
       "</style>\n",
       "<table border=\"1\" class=\"dataframe\">\n",
       "  <thead>\n",
       "    <tr style=\"text-align: right;\">\n",
       "      <th></th>\n",
       "      <th>size</th>\n",
       "      <th>bedrooms</th>\n",
       "      <th>price</th>\n",
       "    </tr>\n",
       "  </thead>\n",
       "  <tbody>\n",
       "    <tr>\n",
       "      <th>0</th>\n",
       "      <td>0.130010</td>\n",
       "      <td>-0.223675</td>\n",
       "      <td>0.475747</td>\n",
       "    </tr>\n",
       "    <tr>\n",
       "      <th>1</th>\n",
       "      <td>-0.504190</td>\n",
       "      <td>-0.223675</td>\n",
       "      <td>-0.084074</td>\n",
       "    </tr>\n",
       "    <tr>\n",
       "      <th>2</th>\n",
       "      <td>0.502476</td>\n",
       "      <td>-0.223675</td>\n",
       "      <td>0.228626</td>\n",
       "    </tr>\n",
       "    <tr>\n",
       "      <th>3</th>\n",
       "      <td>-0.735723</td>\n",
       "      <td>-1.537767</td>\n",
       "      <td>-0.867025</td>\n",
       "    </tr>\n",
       "    <tr>\n",
       "      <th>4</th>\n",
       "      <td>1.257476</td>\n",
       "      <td>1.090417</td>\n",
       "      <td>1.595389</td>\n",
       "    </tr>\n",
       "  </tbody>\n",
       "</table>\n",
       "</div>"
      ]
     },
     "execution_count": 6,
     "metadata": {},
     "output_type": "execute_result"
    }
   ],
   "execution_count": 6
  },
  {
   "metadata": {
    "ExecuteTime": {
     "end_time": "2024-09-24T22:54:04.113759Z",
     "start_time": "2024-09-24T22:54:03.923917Z"
    }
   },
   "cell_type": "code",
   "source": [
    "data.plot.scatter(x='size', y='price', label='size vs price')\n",
    "plt.show()"
   ],
   "id": "5bcc6fa8fc847009",
   "outputs": [
    {
     "data": {
      "text/plain": [
       "<Figure size 640x480 with 1 Axes>"
      ],
      "image/png": "[encoded data removed]"
     },
     "metadata": {},
     "output_type": "display_data"
    }
   ],
   "execution_count": 7
  },
  {
   "metadata": {
    "ExecuteTime": {
     "end_time": "2024-09-24T22:54:04.324500Z",
     "start_time": "2024-09-24T22:54:04.160528Z"
    }
   },
   "cell_type": "code",
   "source": [
    "data.plot.scatter(x='bedrooms', y='price', label='bedrooms vs price')\n",
    "plt.show()"
   ],
   "id": "ac439ff2062a443b",
   "outputs": [
    {
     "data": {
      "text/plain": [
       "<Figure size 640x480 with 1 Axes>"
      ],
      "image/png": "[encoded data removed]"
     },
     "metadata": {},
     "output_type": "display_data"
    }
   ],
   "execution_count": 8
  },
  {
   "metadata": {
    "ExecuteTime": {
     "end_time": "2024-09-24T22:54:04.403826Z",
     "start_time": "2024-09-24T22:54:04.393978Z"
    }
   },
   "cell_type": "code",
   "source": [
    "#添加全为1的列\n",
    "data.insert(0, 'ones', 1)\n",
    "data.head()"
   ],
   "id": "6f2eaba88c36357e",
   "outputs": [
    {
     "data": {
      "text/plain": [
       "   ones      size  bedrooms     price\n",
       "0     1  0.130010 -0.223675  0.475747\n",
       "1     1 -0.504190 -0.223675 -0.084074\n",
       "2     1  0.502476 -0.223675  0.228626\n",
       "3     1 -0.735723 -1.537767 -0.867025\n",
       "4     1  1.257476  1.090417  1.595389"
      ],
      "text/html": [
       "<div>\n",
       "<style scoped>\n",
       "    .dataframe tbody tr th:only-of-type {\n",
       "        vertical-align: middle;\n",
       "    }\n",
       "\n",
       "    .dataframe tbody tr th {\n",
       "        vertical-align: top;\n",
       "    }\n",
       "\n",
       "    .dataframe thead th {\n",
       "        text-align: right;\n",
       "    }\n",
       "</style>\n",
       "<table border=\"1\" class=\"dataframe\">\n",
       "  <thead>\n",
       "    <tr style=\"text-align: right;\">\n",
       "      <th></th>\n",
       "      <th>ones</th>\n",
       "      <th>size</th>\n",
       "      <th>bedrooms</th>\n",
       "      <th>price</th>\n",
       "    </tr>\n",
       "  </thead>\n",
       "  <tbody>\n",
       "    <tr>\n",
       "      <th>0</th>\n",
       "      <td>1</td>\n",
       "      <td>0.130010</td>\n",
       "      <td>-0.223675</td>\n",
       "      <td>0.475747</td>\n",
       "    </tr>\n",
       "    <tr>\n",
       "      <th>1</th>\n",
       "      <td>1</td>\n",
       "      <td>-0.504190</td>\n",
       "      <td>-0.223675</td>\n",
       "      <td>-0.084074</td>\n",
       "    </tr>\n",
       "    <tr>\n",
       "      <th>2</th>\n",
       "      <td>1</td>\n",
       "      <td>0.502476</td>\n",
       "      <td>-0.223675</td>\n",
       "      <td>0.228626</td>\n",
       "    </tr>\n",
       "    <tr>\n",
       "      <th>3</th>\n",
       "      <td>1</td>\n",
       "      <td>-0.735723</td>\n",
       "      <td>-1.537767</td>\n",
       "      <td>-0.867025</td>\n",
       "    </tr>\n",
       "    <tr>\n",
       "      <th>4</th>\n",
       "      <td>1</td>\n",
       "      <td>1.257476</td>\n",
       "      <td>1.090417</td>\n",
       "      <td>1.595389</td>\n",
       "    </tr>\n",
       "  </tbody>\n",
       "</table>\n",
       "</div>"
      ]
     },
     "execution_count": 9,
     "metadata": {},
     "output_type": "execute_result"
    }
   ],
   "execution_count": 9
  },
  {
   "metadata": {
    "ExecuteTime": {
     "end_time": "2024-09-24T22:54:04.482841Z",
     "start_time": "2024-09-24T22:54:04.473806Z"
    }
   },
   "cell_type": "code",
   "source": [
    "#构造数据集\n",
    "X = data.iloc[:, 0:-1]\n",
    "X.head()"
   ],
   "id": "e97bffd79d9678e4",
   "outputs": [
    {
     "data": {
      "text/plain": [
       "   ones      size  bedrooms\n",
       "0     1  0.130010 -0.223675\n",
       "1     1 -0.504190 -0.223675\n",
       "2     1  0.502476 -0.223675\n",
       "3     1 -0.735723 -1.537767\n",
       "4     1  1.257476  1.090417"
      ],
      "text/html": [
       "<div>\n",
       "<style scoped>\n",
       "    .dataframe tbody tr th:only-of-type {\n",
       "        vertical-align: middle;\n",
       "    }\n",
       "\n",
       "    .dataframe tbody tr th {\n",
       "        vertical-align: top;\n",
       "    }\n",
       "\n",
       "    .dataframe thead th {\n",
       "        text-align: right;\n",
       "    }\n",
       "</style>\n",
       "<table border=\"1\" class=\"dataframe\">\n",
       "  <thead>\n",
       "    <tr style=\"text-align: right;\">\n",
       "      <th></th>\n",
       "      <th>ones</th>\n",
       "      <th>size</th>\n",
       "      <th>bedrooms</th>\n",
       "    </tr>\n",
       "  </thead>\n",
       "  <tbody>\n",
       "    <tr>\n",
       "      <th>0</th>\n",
       "      <td>1</td>\n",
       "      <td>0.130010</td>\n",
       "      <td>-0.223675</td>\n",
       "    </tr>\n",
       "    <tr>\n",
       "      <th>1</th>\n",
       "      <td>1</td>\n",
       "      <td>-0.504190</td>\n",
       "      <td>-0.223675</td>\n",
       "    </tr>\n",
       "    <tr>\n",
       "      <th>2</th>\n",
       "      <td>1</td>\n",
       "      <td>0.502476</td>\n",
       "      <td>-0.223675</td>\n",
       "    </tr>\n",
       "    <tr>\n",
       "      <th>3</th>\n",
       "      <td>1</td>\n",
       "      <td>-0.735723</td>\n",
       "      <td>-1.537767</td>\n",
       "    </tr>\n",
       "    <tr>\n",
       "      <th>4</th>\n",
       "      <td>1</td>\n",
       "      <td>1.257476</td>\n",
       "      <td>1.090417</td>\n",
       "    </tr>\n",
       "  </tbody>\n",
       "</table>\n",
       "</div>"
      ]
     },
     "execution_count": 10,
     "metadata": {},
     "output_type": "execute_result"
    }
   ],
   "execution_count": 10
  },
  {
   "metadata": {
    "ExecuteTime": {
     "end_time": "2024-09-24T22:54:04.609511Z",
     "start_time": "2024-09-24T22:54:04.603162Z"
    }
   },
   "cell_type": "code",
   "source": [
    "y = data.iloc[:, -1]\n",
    "y.head()"
   ],
   "id": "41dc453aca222810",
   "outputs": [
    {
     "data": {
      "text/plain": [
       "0    0.475747\n",
       "1   -0.084074\n",
       "2    0.228626\n",
       "3   -0.867025\n",
       "4    1.595389\n",
       "Name: price, dtype: float64"
      ]
     },
     "execution_count": 11,
     "metadata": {},
     "output_type": "execute_result"
    }
   ],
   "execution_count": 11
  },
  {
   "metadata": {
    "ExecuteTime": {
     "end_time": "2024-09-24T22:54:04.884009Z",
     "start_time": "2024-09-24T22:54:04.876449Z"
    }
   },
   "cell_type": "code",
   "source": [
    "#为了方便运算，将dataframe转为数组格式\n",
    "X = X.values"
   ],
   "id": "3a5b5decd65866e7",
   "outputs": [],
   "execution_count": 12
  },
  {
   "metadata": {
    "ExecuteTime": {
     "end_time": "2024-09-24T22:54:05.040173Z",
     "start_time": "2024-09-24T22:54:05.033231Z"
    }
   },
   "cell_type": "code",
   "source": "X.shape",
   "id": "676dfab8bbcf7953",
   "outputs": [
    {
     "data": {
      "text/plain": [
       "(47, 3)"
      ]
     },
     "execution_count": 13,
     "metadata": {},
     "output_type": "execute_result"
    }
   ],
   "execution_count": 13
  },
  {
   "metadata": {
    "ExecuteTime": {
     "end_time": "2024-09-24T22:54:05.262022Z",
     "start_time": "2024-09-24T22:54:05.254739Z"
    }
   },
   "cell_type": "code",
   "source": "y = y.values",
   "id": "8d384d202fc7fe55",
   "outputs": [],
   "execution_count": 14
  },
  {
   "metadata": {
    "ExecuteTime": {
     "end_time": "2024-09-24T22:54:05.328211Z",
     "start_time": "2024-09-24T22:54:05.314645Z"
    }
   },
   "cell_type": "code",
   "source": "y.shape",
   "id": "b3538de5b325b5c3",
   "outputs": [
    {
     "data": {
      "text/plain": [
       "(47,)"
      ]
     },
     "execution_count": 15,
     "metadata": {},
     "output_type": "execute_result"
    }
   ],
   "execution_count": 15
  },
  {
   "metadata": {
    "ExecuteTime": {
     "end_time": "2024-09-24T22:54:05.508980Z",
     "start_time": "2024-09-24T22:54:05.499974Z"
    }
   },
   "cell_type": "code",
   "source": "y = y.reshape(47, 1)",
   "id": "8d33b74fa7b3477c",
   "outputs": [],
   "execution_count": 16
  },
  {
   "metadata": {
    "ExecuteTime": {
     "end_time": "2024-09-24T22:54:05.589169Z",
     "start_time": "2024-09-24T22:54:05.580143Z"
    }
   },
   "cell_type": "code",
   "source": "y.shape",
   "id": "162a17702b036600",
   "outputs": [
    {
     "data": {
      "text/plain": [
       "(47, 1)"
      ]
     },
     "execution_count": 17,
     "metadata": {},
     "output_type": "execute_result"
    }
   ],
   "execution_count": 17
  },
  {
   "metadata": {
    "ExecuteTime": {
     "end_time": "2024-09-24T22:58:46.171778Z",
     "start_time": "2024-09-24T22:58:46.126833Z"
    }
   },
   "cell_type": "code",
   "source": [
    "#损失函数\n",
    "def costFunction(X, y, theta):\n",
    "    inner = np.power(X @ theta - y, 2)  #这里的X是矩阵，所以不用担心单变量或多变量问题\n",
    "    return np.sum(inner) / (2 * len(X))"
   ],
   "id": "a09a94139659a643",
   "outputs": [],
   "execution_count": 19
  },
  {
   "metadata": {
    "ExecuteTime": {
     "end_time": "2024-09-24T23:00:33.356953Z",
     "start_time": "2024-09-24T23:00:33.347522Z"
    }
   },
   "cell_type": "code",
   "source": "theta = np.zeros((3, 1))",
   "id": "116787332f4189fb",
   "outputs": [],
   "execution_count": 20
  },
  {
   "metadata": {
    "ExecuteTime": {
     "end_time": "2024-09-24T23:01:19.043322Z",
     "start_time": "2024-09-24T23:01:19.034478Z"
    }
   },
   "cell_type": "code",
   "source": [
    "cost_init = costFunction(X, y, theta)\n",
    "print('Cost function:', cost_init)"
   ],
   "id": "8174e9a0dc1386f1",
   "outputs": [
    {
     "name": "stdout",
     "output_type": "stream",
     "text": [
      "Cost function: 0.4893617021276595\n"
     ]
    }
   ],
   "execution_count": 22
  },
  {
   "metadata": {
    "ExecuteTime": {
     "end_time": "2024-09-24T23:17:32.892596Z",
     "start_time": "2024-09-24T23:17:32.886851Z"
    }
   },
   "cell_type": "code",
   "source": [
    "#梯度下降更新theta\n",
    "def gradientDescent(X, y, theta, alpha, iters):\n",
    "    costs = []\n",
    "    for i in range(iters):\n",
    "        theta = theta - (X.T @ (X @ theta - y)) * alpha / len(X)\n",
    "        cost = costFunction(X, y, theta)\n",
    "        costs.append(cost)\n",
    "\n",
    "        if i % 100 == 0:\n",
    "            print(cost)\n",
    "\n",
    "    return theta, costs"
   ],
   "id": "2df735b1c1f2fda7",
   "outputs": [],
   "execution_count": 27
  },
  {
   "metadata": {
    "ExecuteTime": {
     "end_time": "2024-09-24T23:17:34.981278Z",
     "start_time": "2024-09-24T23:17:34.977055Z"
    }
   },
   "cell_type": "code",
   "source": [
    "#不同alpha下的效果\n",
    "all_alpha = [0.0003, 0.003, 0.03, 0.0001, 0.001, 0.01]\n",
    "iters = 2000"
   ],
   "id": "97453de22a898b0d",
   "outputs": [],
   "execution_count": 28
  },
  {
   "metadata": {
    "ExecuteTime": {
     "end_time": "2024-09-24T23:19:01.555007Z",
     "start_time": "2024-09-24T23:19:01.306903Z"
    }
   },
   "cell_type": "code",
   "source": [
    "fig, ax = plt.subplots()\n",
    "for alpha in all_alpha:\n",
    "    _, costs = gradientDescent(X, y, theta, alpha, iters)  #因为这里画图不需要theta所以使用下划线去掉\n",
    "    ax.plot(np.arange(iters), costs, label=f'alpha={alpha}')\n",
    "    ax.legend()\n",
    "\n",
    "ax.set(xlabel='Iterations', ylabel='Cost', title='iters vs cost')\n",
    "plt.show()"
   ],
   "id": "85f4a1256ffdd518",
   "outputs": [
    {
     "name": "stdout",
     "output_type": "stream",
     "text": [
      "0.48909548256102436\n",
      "0.4635902331657032\n",
      "0.44016821475663215\n",
      "0.4186508535071945\n",
      "0.39887511309398144\n",
      "0.38069213679771036\n",
      "0.3639660084316407\n",
      "0.3485726216951538\n",
      "0.3343986484608999\n",
      "0.32134059733491166\n",
      "0.3093039545873275\n",
      "0.2982024002432156\n",
      "0.2879570927542748\n",
      "0.27849601624819187\n",
      "0.26975338487801676\n",
      "0.26166909927347387\n",
      "0.2541882505337031\n",
      "0.2472606676001874\n",
      "0.24084050421292977\n",
      "0.23488586198535077\n",
      "0.48670463263687064\n",
      "0.308056670352668\n",
      "0.22870462926315133\n",
      "0.19082529270137932\n",
      "0.1709160958940547\n",
      "0.1592719017108704\n",
      "0.15176949308410234\n",
      "0.14657083679144334\n",
      "0.14279396721170182\n",
      "0.1399723789282826\n",
      "0.13783149977689782\n",
      "0.13619351004826175\n",
      "0.13493475667239407\n",
      "0.13396521055587873\n",
      "0.1332175312668491\n",
      "0.1326405902968557\n",
      "0.13219525534466406\n",
      "0.13185144867103776\n",
      "0.13158600087298825\n",
      "0.13138104364243763\n",
      "0.4633036247760585\n",
      "0.13755547027220208\n",
      "0.1311947183255001\n",
      "0.1307241965818779\n",
      "0.1306892794350177\n",
      "0.13068668824425503\n",
      "0.1306864959527822\n",
      "0.13068648168289088\n",
      "0.13068648062392663\n",
      "0.13068648054534124\n",
      "0.1306864805395094\n",
      "0.13068648053907667\n",
      "0.13068648053904452\n",
      "0.13068648053904214\n",
      "0.13068648053904197\n",
      "0.13068648053904197\n",
      "0.13068648053904192\n",
      "0.13068648053904194\n",
      "0.13068648053904197\n",
      "0.13068648053904194\n",
      "0.48927294961489093\n",
      "0.4805242642737036\n",
      "0.47202124268869594\n",
      "0.46375664598944016\n",
      "0.455723451739234\n",
      "0.44791484743659643\n",
      "0.4403242242121174\n",
      "0.4329451707147918\n",
      "0.4257714671821336\n",
      "0.41879707968855046\n",
      "0.41201615456661184\n",
      "0.40542301299601563\n",
      "0.39901214575520805\n",
      "0.39277820813076786\n",
      "0.3867160149798064\n",
      "0.3808205359407878\n",
      "0.37508689078830154\n",
      "0.3695103449274612\n",
      "0.36408630502372863\n",
      "0.3588103147640935\n",
      "0.4884747465750354\n",
      "0.4113725730704043\n",
      "0.353160075538651\n",
      "0.30897997127415455\n",
      "0.27524432859225895\n",
      "0.24930112777389982\n",
      "0.22918855441466054\n",
      "0.21345392973678748\n",
      "0.2010202632455974\n",
      "0.19108789282765565\n",
      "0.1830619775821433\n",
      "0.17649903992653407\n",
      "0.17106754462259413\n",
      "0.1665188218831978\n",
      "0.16266561381704883\n",
      "0.1593662396238415\n",
      "0.15651290255685793\n",
      "0.15402305036922834\n",
      "0.15183298732775277\n",
      "0.14989314685785435\n",
      "0.48054910410767177\n",
      "0.1820944380133389\n",
      "0.14793824957386828\n",
      "0.1377591345050687\n",
      "0.1336603777249612\n",
      "0.1319404652949001\n",
      "0.1312154035241262\n",
      "0.13090958448719192\n",
      "0.13078058791637864\n",
      "0.13072617594607358\n",
      "0.13070322444853416\n",
      "0.13069354328325836\n",
      "0.13068945967339024\n",
      "0.1306877371669466\n",
      "0.13068701059694002\n",
      "0.13068670412262964\n",
      "0.1306865748487784\n",
      "0.13068652031980799\n",
      "0.13068649731895682\n",
      "0.13068648761697357\n"
     ]
    },
    {
     "data": {
      "text/plain": [
       "<Figure size 640x480 with 1 Axes>"
      ],
      "image/png": "[encoded data removed]"
     },
     "metadata": {},
     "output_type": "display_data"
    }
   ],
   "execution_count": 31
  },
  {
   "metadata": {},
   "cell_type": "markdown",
   "source": "由图像来看，下面三个图像下降快，迭代次数挺好的",
   "id": "ea4d9c2429809a0"
  }
 ],
 "metadata": {
  "kernelspec": {
   "display_name": "Python 3",
   "language": "python",
   "name": "python3"
  },
  "language_info": {
   "codemirror_mode": {
    "name": "ipython",
    "version": 2
   },
   "file_extension": ".py",
   "mimetype": "text/x-python",
   "name": "python",
   "nbconvert_exporter": "python",
   "pygments_lexer": "ipython2",
   "version": "2.7.6"
  }
 },
 "nbformat": 4,
 "nbformat_minor": 5
}
